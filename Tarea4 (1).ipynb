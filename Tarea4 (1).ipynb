{
  "nbformat": 4,
  "nbformat_minor": 0,
  "metadata": {
    "colab": {
      "provenance": []
    },
    "kernelspec": {
      "name": "python3",
      "display_name": "Python 3"
    },
    "language_info": {
      "name": "python"
    }
  },
  "cells": [
    {
      "cell_type": "markdown",
      "source": [
        "# **Práctica 4**\n",
        "\n",
        "**Integrantes:**  \n",
        "\n",
        "*   Gallardo Rosales Sofía\n",
        "*   Salgado Islas Sergio"
      ],
      "metadata": {
        "id": "4OjRBw_K_5_9"
      }
    },
    {
      "cell_type": "markdown",
      "source": [
        "1. Programar los métodos de:\n",
        "*   Bisección.\n",
        "*   Secante.\n",
        "*   Newton.\n",
        "*   Regla Falsa.\n",
        "\n",
        "Para cada caso, pedir los datos entrada correspondientes: función punto(s) inicial(es), tolerancia, etc. Devolver la raíz si la encuentra, si no desplegar el mensaje donde se diga qué ocurrió. Entregar los códigos de cada método.\n",
        "[Computacional].\n"
      ],
      "metadata": {
        "id": "bCZu-Qk6_gbz"
      }
    },
    {
      "cell_type": "code",
      "source": [
        "import sympy as sp\n",
        "\n",
        "def biseccion_metodo(func_str, a, b, tol, max_iter):\n",
        "    # Definimos el símbolo de la variable independiente\n",
        "    x = sp.symbols('x')\n",
        "    # Convertimos la cadena de texto de la función a una expresión simbólica\n",
        "    f = sp.sympify(func_str)\n",
        "\n",
        "    # Creamos una función evaluable a partir de la expresión simbólica\n",
        "    f_x = sp.lambdify(x, f, 'numpy')\n",
        "\n",
        "    # Evaluamos la función en los puntos iniciales\n",
        "    fa = f_x(a)\n",
        "    fb = f_x(b)\n",
        "\n",
        "    if fa * fb > 0:\n",
        "        return \"Error: La función no cambia de signo en el intervalo dado [a, b].\"\n",
        "\n",
        "    # Inicializamos un contador\n",
        "    i = 0\n",
        "\n",
        "    while i < max_iter:\n",
        "        # Calculamos el punto medio\n",
        "        c = (a + b) / 2\n",
        "        fc = f_x(c)\n",
        "\n",
        "        # Comprobamos si la diferencia entre las aproximaciones sucesivas es menor que la tolerancia\n",
        "        if abs(fc) < tol or abs(b - a) < tol:\n",
        "            return c\n",
        "\n",
        "        # Actualizamos los valores de a y b para la siguiente iteración\n",
        "        if fa * fc < 0:\n",
        "            b = c\n",
        "            fb = fc\n",
        "        else:\n",
        "            a = c\n",
        "            fa = fc\n",
        "\n",
        "        i += 1\n",
        "\n",
        "    # Si se alcanzó el número máximo de iteraciones sin encontrar una raíz, devolvemos un mensaje de error\n",
        "    return \"Error: No se encontró la raíz en el número máximo de iteraciones.\"\n",
        "\n",
        "# Ejemplo de uso\n",
        "# Solicitamos al usuario que introduzca la función, los valores iniciales, la tolerancia y el número máximo de iteraciones\n",
        "func_str = input(\"Introduce la función f(x): \").replace('^', '**')\n",
        "a = float(input(\"Introduce el valor inicial a: \"))\n",
        "b = float(input(\"Introduce el valor inicial b: \"))\n",
        "tol = float(input(\"Introduce la tolerancia: \"))\n",
        "max_iter = int(input(\"Introduce el número máximo de iteraciones: \"))\n",
        "\n",
        "# Llamamos al método de la bisección y mostramos el resultado\n",
        "raiz = biseccion_metodo(func_str, a, b, tol, max_iter)\n",
        "print(\"La raíz encontrada es:\", raiz)\n"
      ],
      "metadata": {
        "colab": {
          "base_uri": "https://localhost:8080/"
        },
        "id": "u21Gjy0PLet6",
        "outputId": "f617b4df-9932-4cae-cd6f-4bd69bc440d7"
      },
      "execution_count": 4,
      "outputs": [
        {
          "output_type": "stream",
          "name": "stdout",
          "text": [
            "Introduce la función f(x): x**2 - 4*sin(x)\n",
            "Introduce el valor inicial a: -4\n",
            "Introduce el valor inicial b: -3\n",
            "Introduce la tolerancia: 0.00000001\n",
            "Introduce el número máximo de iteraciones: 100\n",
            "La raíz encontrada es: Error: La función no cambia de signo en el intervalo dado [a, b].\n"
          ]
        }
      ]
    },
    {
      "cell_type": "code",
      "source": [
        "import sympy as sp\n",
        "\n",
        "def secante_metodo(func_str, x0, x1, tol, max_iter):\n",
        "    # Definimos el símbolo de la variable independiente\n",
        "    x = sp.symbols('x')\n",
        "    # Convertimos la cadena de texto de la función a una expresión simbólica\n",
        "    f = sp.sympify(func_str)\n",
        "\n",
        "    # Creamos una función evaluable a partir de la expresión simbólica\n",
        "    f_x = sp.lambdify(x, f, 'numpy')\n",
        "\n",
        "    for k in range(max_iter):\n",
        "        # Evaluamos la función en los puntos actuales\n",
        "        f_x0 = f_x(x0)\n",
        "        f_x1 = f_x(x1)\n",
        "\n",
        "        # Si la diferencia entre las evaluaciones es cero, no podemos continuar\n",
        "        if f_x1 == f_x0:\n",
        "            return \"Error: División por cero, no se puede continuar.\"\n",
        "\n",
        "        # Calculamos el siguiente valor de x utilizando el método de la secante\n",
        "        x2 = x1 - f_x1 * (x1 - x0) / (f_x1 - f_x0)\n",
        "\n",
        "        # Comprobamos si la diferencia entre las aproximaciones sucesivas es menor que la tolerancia\n",
        "        if abs(x2 - x1) < tol:\n",
        "            return x2\n",
        "\n",
        "        # Actualizamos los valores para la siguiente iteración\n",
        "        x0 = x1\n",
        "        x1 = x2\n",
        "\n",
        "    # Si se alcanzó el número máximo de iteraciones sin encontrar una raíz, devolvemos un mensaje de error\n",
        "    return \"Error: No se encontró la raíz en el número máximo de iteraciones.\"\n",
        "\n",
        "# Ejemplo de uso\n",
        "# Solicitamos al usuario que introduzca la función, los valores iniciales, la tolerancia y el número máximo de iteraciones\n",
        "func_str = input(\"Introduce la función f(x): \").replace('^', '**')\n",
        "x0 = float(input(\"Introduce el primer valor inicial x0: \"))\n",
        "x1 = float(input(\"Introduce el segundo valor inicial x1: \"))\n",
        "tol = float(input(\"Introduce la tolerancia: \"))\n",
        "max_iter = int(input(\"Introduce el número máximo de iteraciones: \"))\n",
        "\n",
        "# Llamamos al método de la secante y mostramos el resultado\n",
        "raiz = secante_metodo(func_str, x0, x1, tol, max_iter)\n",
        "print(\"La raíz encontrada es:\", raiz)"
      ],
      "metadata": {
        "colab": {
          "base_uri": "https://localhost:8080/"
        },
        "id": "1aGdapJ3G-pk",
        "outputId": "2ad55016-fc28-4f44-ccf8-2a7ed91a43e9"
      },
      "execution_count": 21,
      "outputs": [
        {
          "output_type": "stream",
          "name": "stdout",
          "text": [
            "Introduce la función f(x): x**2 - 4*sin(x)\n",
            "Introduce el primer valor inicial x0: -3\n",
            "Introduce el segundo valor inicial x1: -4\n",
            "Introduce la tolerancia: 0.00000001\n",
            "Introduce el número máximo de iteraciones: 100\n",
            "La raíz encontrada es: -1.5374483029070543e-21\n"
          ]
        }
      ]
    },
    {
      "cell_type": "code",
      "source": [
        "}import sympy as sp\n",
        "\n",
        "def newton_metodo(func_str, x0, tol, max_iter):\n",
        "    # Definimos el símbolo de la variable independiente\n",
        "    x = sp.symbols('x')\n",
        "    # Convertimos la cadena de texto de la función a una expresión simbólica\n",
        "    f = sp.sympify(func_str)\n",
        "    # Calculamos la derivada de la función\n",
        "    f_deriv = sp.diff(f, x)\n",
        "\n",
        "    # Creamos funciones evaluables a partir de las expresiones simbólicas\n",
        "    f_x = sp.lambdify(x, f, 'numpy')\n",
        "    f_deriv_x = sp.lambdify(x, f_deriv, 'numpy')\n",
        "\n",
        "    for k in range(max_iter):\n",
        "        # Evaluamos la función y su derivada en el punto actual\n",
        "        f_x0 = f_x(x0)\n",
        "        f_deriv_x0 = f_deriv_x(x0)\n",
        "\n",
        "        # Si la derivada es cero, no podemos continuar\n",
        "        if f_deriv_x0 == 0:\n",
        "            return \"Error: Derivada igual a cero, no se puede continuar.\"\n",
        "\n",
        "        # Calculamos el siguiente valor de x utilizando el método de Newton\n",
        "        x1 = x0 - f_x0 / f_deriv_x0\n",
        "\n",
        "        # Comprobamos si la diferencia entre las aproximaciones sucesivas es menor que la tolerancia\n",
        "        if abs(x1 - x0) < tol:\n",
        "            return x1\n",
        "\n",
        "        # Actualizamos el valor de x0 para la siguiente iteración\n",
        "        x0 = x1\n",
        "\n",
        "    # Si se alcanzó el número máximo de iteraciones sin encontrar una raíz, devolvemos un mensaje de error\n",
        "    return \"Error: No se encontró la raíz en el número máximo de iteraciones.\"\n",
        "\n",
        "# Ejemplo de uso\n",
        "# Solicitamos al usuario que introduzca la función, el valor inicial, la tolerancia y el número máximo de iteraciones\n",
        "func_str = input(\"Introduce la función f(x): \").replace('^', '**')\n",
        "x0 = float(input(\"Introduce el valor inicial x0: \"))\n",
        "tol = float(input(\"Introduce la tolerancia: \"))\n",
        "max_iter = int(input(\"Introduce el número máximo de iteraciones: \"))\n",
        "\n",
        "# Llamamos al método de Newton y mostramos el resultado\n",
        "raiz = newton_metodo(func_str, x0, tol, max_iter)\n",
        "print(\"La raíz encontrada es:\", raiz)"
      ],
      "metadata": {
        "colab": {
          "base_uri": "https://localhost:8080/"
        },
        "id": "L4u8bztyB76K",
        "outputId": "e29ac18e-6cc9-4237-b4eb-72970b712189"
      },
      "execution_count": 11,
      "outputs": [
        {
          "output_type": "stream",
          "name": "stdout",
          "text": [
            "Introduce la función f(x): x**2 - 4*sin(x)\n",
            "Introduce el valor inicial x0: -3\n",
            "Introduce la tolerancia: 0.00000001\n",
            "Introduce el número máximo de iteraciones: 100\n",
            "La raíz encontrada es: 1.9337537628270212\n"
          ]
        }
      ]
    },
    {
      "cell_type": "code",
      "source": [
        "import sympy as sp\n",
        "\n",
        "def regla_falsa_metodo(func_str, a, b, tol, max_iter):\n",
        "    # Definimos el símbolo de la variable independiente\n",
        "    x = sp.symbols('x')\n",
        "    # Convertimos la cadena de texto de la función a una expresión simbólica\n",
        "    f = sp.sympify(func_str)\n",
        "\n",
        "    # Creamos una función evaluable a partir de la expresión simbólica\n",
        "    f_x = sp.lambdify(x, f, 'numpy')\n",
        "\n",
        "    # Evaluamos la función en los puntos iniciales\n",
        "    fa = f_x(a)\n",
        "    fb = f_x(b)\n",
        "\n",
        "    if fa * fb > 0:\n",
        "        return \"Error: La función no cambia de signo en el intervalo dado [a, b].\"\n",
        "\n",
        "    for k in range(max_iter):\n",
        "        # Calculamos el punto c utilizando la fórmula de la regla falsa\n",
        "        c = b - fb * (b - a) / (fb - fa)\n",
        "        fc = f_x(c)\n",
        "\n",
        "        # Comprobamos si la diferencia entre las aproximaciones sucesivas es menor que la tolerancia\n",
        "        if abs(fc) < tol:\n",
        "            return c\n",
        "\n",
        "        # Actualizamos los valores de a y b para la siguiente iteración\n",
        "        if fa * fc < 0:\n",
        "            b = c\n",
        "            fb = fc\n",
        "        else:\n",
        "            a = c\n",
        "            fa = fc\n",
        "\n",
        "    # Si se alcanzó el número máximo de iteraciones sin encontrar una raíz, devolvemos un mensaje de error\n",
        "    return \"Error: No se encontró la raíz en el número máximo de iteraciones.\"\n",
        "\n",
        "# Ejemplo de uso\n",
        "# Solicitamos al usuario que introduzca la función, los valores iniciales, la tolerancia y el número máximo de iteraciones\n",
        "func_str = input(\"Introduce la función f(x): \").replace('^', '**')\n",
        "a = float(input(\"Introduce el valor inicial a: \"))\n",
        "b = float(input(\"Introduce el valor inicial b: \"))\n",
        "tol = float(input(\"Introduce la tolerancia: \"))\n",
        "max_iter = int(input(\"Introduce el número máximo de iteraciones: \"))\n",
        "\n",
        "# Llamamos al método de la regla falsa y mostramos el resultado\n",
        "raiz = regla_falsa_metodo(func_str, a, b, tol, max_iter)\n",
        "print(\"La raíz encontrada es:\", raiz)\n"
      ],
      "metadata": {
        "colab": {
          "base_uri": "https://localhost:8080/"
        },
        "id": "k2dQZsdZLYSW",
        "outputId": "4e5811dc-46dd-46e1-eba4-24a60e50da8a"
      },
      "execution_count": 22,
      "outputs": [
        {
          "output_type": "stream",
          "name": "stdout",
          "text": [
            "Introduce la función f(x): x**2 - 4*sin(x)\n",
            "Introduce el valor inicial a: -3\n",
            "Introduce el valor inicial b: -4\n",
            "Introduce la tolerancia: 0.00000001\n",
            "Introduce el número máximo de iteraciones: 100\n",
            "La raíz encontrada es: Error: La función no cambia de signo en el intervalo dado [a, b].\n"
          ]
        }
      ]
    },
    {
      "cell_type": "markdown",
      "source": [
        "2. Usar el Método de Bisección (programado) para encontrar la solución de las siguientes funciones con una tolerancia de $10^{-5}$.\n",
        "*   $f(x)=x-2^{-x}$, para $0 \\leq x \\leq 1$.\n",
        "*   $f(x)=e^x-x^2+3 x-2$, para $0 \\leq x \\leq 1$.\n",
        "*   $f(x)=2 x \\cos (2 x)-(x+1)^2$, para $-3 \\leq x \\leq-2$ y $-1 \\leq x \\leq 0$.\n",
        "*   $f(x)=x \\cos (x)-2 x^2+3 x-1$, para $0.2 \\leq x \\leq 0.3$ y $1.2 \\leq x \\leq 1.3$.\n",
        "\n",
        "[Computacional].\n"
      ],
      "metadata": {
        "id": "pL3p0AGyRy9S"
      }
    },
    {
      "cell_type": "code",
      "source": [
        "# Definimos los parámetros de tolerancia y máximo de iteraciones\n",
        "tolerancia = 1e-5\n",
        "max_iter = 100\n",
        "\n",
        "# Definimos las funciones y los intervalos\n",
        "func_intervalos = [\n",
        "    (\"x - 2**(-x)\", 0, 1),\n",
        "    (\"exp(x) - x**2 + 3*x - 2\", 0, 1),\n",
        "    (\"2*x*cos(2*x) - (x+1)**2\", -3, -2),\n",
        "    (\"2*x*cos(2*x) - (x+1)**2\", -1, 0),\n",
        "    (\"x*cos(x) - 2*x**2 + 3*x - 1\", 0.2, 0.3),\n",
        "    (\"x*cos(x) - 2*x**2 + 3*x - 1\", 1.2, 1.3)\n",
        "]\n",
        "\n",
        "# Iteramos sobre cada función e intervalo para encontrar las raíces\n",
        "resultados = []\n",
        "for func, a, b in func_intervalos:\n",
        "    raiz = biseccion_metodo(func, a, b, tolerancia, max_iter)\n",
        "    resultados.append((func, a, b, raiz))\n",
        "\n",
        "# Mostramos los resultados\n",
        "for func, a, b, raiz in resultados:\n",
        "    print(f\"Función: {func}, Intervalo: [{a}, {b}], Raíz encontrada: {raiz}\")\n",
        "\n"
      ],
      "metadata": {
        "colab": {
          "base_uri": "https://localhost:8080/"
        },
        "id": "SfP1F8Q4PNDH",
        "outputId": "c324d9ed-c82b-4bae-baa9-89bf5c756b41"
      },
      "execution_count": 5,
      "outputs": [
        {
          "output_type": "stream",
          "name": "stdout",
          "text": [
            "Función: x - 2**(-x), Intervalo: [0, 1], Raíz encontrada: 0.6411895751953125\n",
            "Función: exp(x) - x**2 + 3*x - 2, Intervalo: [0, 1], Raíz encontrada: 0.25753021240234375\n",
            "Función: 2*x*cos(2*x) - (x+1)**2, Intervalo: [-3, -2], Raíz encontrada: -2.1913070678710938\n",
            "Función: 2*x*cos(2*x) - (x+1)**2, Intervalo: [-1, 0], Raíz encontrada: -0.7981605529785156\n",
            "Función: x*cos(x) - 2*x**2 + 3*x - 1, Intervalo: [0.2, 0.3], Raíz encontrada: 0.29752807617187504\n",
            "Función: x*cos(x) - 2*x**2 + 3*x - 1, Intervalo: [1.2, 1.3], Raíz encontrada: 1.256622314453125\n"
          ]
        }
      ]
    },
    {
      "cell_type": "markdown",
      "source": [
        "3. Sea $f(x)=(x+2)(x+1)^2 x(x-1)^3(x-2)$, ¿para qué cero de $f$ el Método de Bisección converge cuando se aplican los intervalos siguientes para su búsqueda?,\n",
        "*   $[-1.5,2.5]$\n",
        "*   $[-0.5,2.4]$\n",
        "*   $[-0.5,3]$\n",
        "*   $[-3,-0.5]$\n",
        "\n",
        "[Ejercicio].\n"
      ],
      "metadata": {
        "id": "iKazS0nBX2YA"
      }
    },
    {
      "cell_type": "markdown",
      "source": [
        "Función: $f(x) = (x+2)(x+1)^2 x (x-1)^3 (x-2)$\n",
        "\n",
        "## a) Intervalo [-1.5, 2.5]\n",
        "\n",
        "1. **Iteración 1**:\n",
        "   -  a = -1.5, b = 2.5\n",
        "   -  $c = \\frac{a + b}{2} = \\frac{-1.5 + 2.5}{2} = 0.5$\n",
        "   -  \\begin{equation*}\n",
        "        %\n",
        "        \\begin{split}\n",
        "        %\n",
        "        f(c) = f(0.5) &= (0.5+2)(0.5+1)^2 \\cdot 0.5 \\cdot (0.5-1)^3 \\cdot (0.5-2) \\\\\n",
        "        %\n",
        "        &= 2.5 \\cdot 1.5^2 \\cdot 0.5 \\cdot (-0.5)^3 \\cdot (-1.5) \\\\\n",
        "        %\n",
        "        &= 2.5 \\cdot 2.25 \\cdot 0.5 \\cdot (-0.125) \\cdot (-1.5) \\\\\n",
        "        %\n",
        "        &= 2.5 \\cdot 2.25 \\cdot 0.5 \\cdot 0.1875 \\\\\n",
        "        %\n",
        "        &= 0.52734375 > 0 \\\\\n",
        "        % Producto punto: \\times%\n",
        "        \\end{split}\n",
        "        %\n",
        "\\end{equation*}\n",
        "\n",
        "\n",
        "   Como $f(a) \\cdot f(c) < 0$, la raíz está en [-1.5, 0.5].\n",
        "\n",
        "\n",
        ".\n",
        "\n",
        "2. **Iteración 2**:\n",
        "   - $a = -1.5$, $b = 0.5$\n",
        "   - $c = \\frac{-1.5 + 0.5}{2} = -0.5$\n",
        "   - \\begin{equation*}\n",
        "        %\n",
        "        \\begin{split}\n",
        "        %\n",
        "        f(c) = f(0.5) &=  (-0.5+2)(-0.5+1)^2 \\cdot (-0.5) \\cdot (-0.5-1)^3 \\cdot (-0.5-2) \\\\\n",
        "        %\n",
        "        &= 1.5 \\cdot 0.5^2 \\cdot (-0.5) \\cdot (-1.5)^3 \\cdot (-2.5)) \\\\\n",
        "        %\n",
        "        &= 1.5 \\cdot 0.25 \\cdot (-0.5) \\cdot (-3.375) \\cdot (-2.5) \\\\\n",
        "        %\n",
        "        &= 0.52734375 > 0\n",
        "        %\n",
        "        \\end{split}\n",
        "        %\n",
        "\\end{equation*}\n",
        "\n",
        "   Como $f(a) \\cdot f(c) < 0$, la raíz está en [-0.5, 0.5].\n",
        "\n",
        "**Iteración 3**:\n",
        "   - $a = -0.5$, $b = 0.5$\n",
        "   - $c = \\frac{-0.5 + 0.5}{2} = 0$\n",
        "   - $f(c) = f(0) = 0$\n",
        "\n",
        "   Como $f(c) = 0$, hemos encontrado una raíz en $x = 0$.\n",
        "\n",
        "Por lo tanto, en el intervalo [-1.5, 2.5], el método de bisección converge a $x = 0$.\n",
        "\n",
        "## b) Intervalo [-0.5, 2.4]\n",
        "\n",
        " **Iteración 1**:\n",
        "   - $a = -0.5$, $b = 2.4$\n",
        "   - $c = \\frac{a + b}{2} = \\frac{-0.5 + 2.4}{2} = 0.95$\n",
        "   - \\begin{equation*}\n",
        "        %\n",
        "        \\begin{split}\n",
        "        %\n",
        "       f(c) = f(0.95) &= (0.95+2)(0.95+1)^2 \\cdot 0.95 \\cdot (0.95-1)^3 \\cdot (0.95-2) \\\\\n",
        "        %\n",
        "        & \\approx 2.95 \\cdot 1.95^2 \\cdot 0.95 \\cdot (-0.05)^3 \\cdot (-1.05) \\\\\n",
        "        %\n",
        "        & \\approx 2.95 \\cdot 3.8025 \\cdot 0.95 \\cdot (-0.000125) \\cdot (-1.05) \\\\\n",
        "        %\n",
        "        & \\approx 0.00125531 > 0\n",
        "        %\n",
        "        \\end{split}\n",
        "        %\n",
        "\\end{equation*}\n",
        "\n",
        "   Como $f(a) \\cdot f(c) < 0$, la raíz está en [-0.5, 0.95].\n",
        "\n",
        "**Iteración 2**:\n",
        "   - $a = -0.5$, $b = 0.95$\n",
        "   - $c = \\frac{-0.5 + 0.95}{2} = 0.225$\n",
        "   - \\begin{equation*}\n",
        "        %\n",
        "        \\begin{split}\n",
        "        %\n",
        "       f(c) =  f(0.225) &= (0.225+2)(0.225+1)^2 \\cdot 0.225 \\cdot (0.225-1)^3 \\cdot (0.225-2) \\\\\n",
        "        %\n",
        "        & \\approx  2.225 \\cdot 1.225^2 \\cdot 0.225 \\cdot (-0.775)^3 \\cdot (-1.775) \\\\\n",
        "        %\n",
        "        & \\approx  2.225 \\cdot 1.500625 \\cdot 0.225 \\cdot (-0.465484375) \\cdot (-1.775) \\\\\n",
        "        %\n",
        "        & \\approx  0.174384 > 0\n",
        "        %\n",
        "        \\end{split}\n",
        "        %\n",
        "\\end{equation*}\n",
        "\n",
        "\n",
        "\n",
        "   Como $f(a) \\cdot f(c) < 0$, la raíz está en [-0.5, 0.225].\n",
        "\n",
        " **Iteración 3**:\n",
        "   - $a = -0.5$, $b = 0.225$\n",
        "   - $c = \\frac{-0.5 + 0.225}{2} = -0.1375$\n",
        "   - \\begin{equation*}\n",
        "        %\n",
        "        \\begin{split}\n",
        "        %\n",
        "       f(c) = f(-0.1375) &= (-0.1375+2)(-0.1375+1)^2 \\cdot (-0.1375) \\cdot (-0.1375-1)^3 \\cdot (-0.1375-2) \\\\\n",
        "        %\n",
        "        & \\approx 1.8625 \\cdot 0.8625^2 \\cdot (-0.1375) \\cdot (-1.1375)^3 \\cdot (-2.1375) \\\\\n",
        "        %\n",
        "        & \\approx   1.8625 \\cdot 0.74390625 \\cdot (-0.1375) \\cdot (-1.47119140625) \\cdot (-2.1375) \\\\\n",
        "        %\n",
        "        & \\approx  -0.45065 < 0\n",
        "        %\n",
        "        \\end{split}\n",
        "        %\n",
        "\\end{equation*}\n",
        "\n",
        "   Como $f(a) \\cdot f(c) < 0$, la raíz está en [-0.1375, 0.225].\n",
        "\n",
        "**Iteración 4**:\n",
        "   - $a = -0.1375$, $b = 0.225$\n",
        "   - $c = \\frac{-0.1375 + 0.225}{2} = 0.04375$\n",
        "   - \\begin{equation*}\n",
        "        %\n",
        "        \\begin{split}\n",
        "        %\n",
        "       f(c) = f(0.04375) &= (0.04375+2)(0.04375+1)^2 \\cdot 0.04375 \\cdot (0.04375-1)^3 \\cdot (0.04375-2) \\\\\n",
        "        %\n",
        "        & \\approx 2.04375 \\cdot 1.04375^2 \\cdot 0.04375 \\cdot (-0.95625)^3 \\cdot (-1.95625) \\\\\n",
        "        %\n",
        "        & \\approx  2.04375 \\cdot 1.08950390625 \\cdot 0.04375 \\cdot (-0.873443359375) \\cdot (-1.95625) \\\\\n",
        "        %\n",
        "        & \\approx  0.08582 > 0\n",
        "        %\n",
        "        \\end{split}\n",
        "        %\n",
        "\\end{equation*}\n",
        "\n",
        "\n",
        "   Como $f(a) \\cdot f(c) < 0$, la raíz está en [-0.1375, 0.04375].\n",
        "\n",
        "**Iteración 5**:\n",
        "   - $a = -0.1375$, $b = 0.04375$\n",
        "   - $c = \\frac{-0.1375 + 0.04375}{2} = -0.046875$\n",
        "   -  \\begin{equation*}\n",
        "        %\n",
        "        \\begin{split}\n",
        "        %\n",
        "       f(c) =  f(-0.046875) &= (-0.046875+2)(-0.046875+1)^2 \\cdot (-0.046875) \\cdot (-0.046875-1)^3 \\cdot (-0.046875-2) \\\\\n",
        "        %\n",
        "        & \\approx 1.953125 \\cdot 0.953125^2 \\cdot (-0.046875) \\cdot (-1.046875)^3 \\cdot (-2.046875) \\\\\n",
        "        %\n",
        "        & \\approx  1.953125 \\cdot 0.9088134765625 \\cdot (-0.046875) \\cdot (-1.1517791748046875) \\cdot (-2.046875) \\\\\n",
        "        %\n",
        "        & \\approx  -0.07305 < 0\n",
        "        %\n",
        "        \\end{split}\n",
        "        %\n",
        "\\end{equation*}\n",
        "\n",
        "\n",
        "   Como $f(a) \\cdot f(c) < 0$, la raíz está en [-0.046875, 0.04375].\n",
        "\n",
        "## c) Intervalo \\([-0.5, 3]\\)\n",
        "\n",
        "**Iteración 1**:\n",
        "- $a = -0.5$, $b = 3$\n",
        "- $c = \\frac{-0.5 + 3}{2} = 1.25$\n",
        "- \\begin{equation*}\n",
        "        %\n",
        "        \\begin{split}\n",
        "        %\n",
        "       f(c) = f(1.25) &= (1.25+2)(1.25+1)^2 \\cdot 1.25 \\cdot (1.25-1)^3 \\cdot (1.25-2) \\\\\n",
        "        %\n",
        "        & \\approx 3.25 \\cdot 2.25^2 \\cdot 1.25 \\cdot (0.25)^3 \\cdot (-0.75) \\\\\n",
        "        %\n",
        "        & \\approx 3.25 \\cdot 5.0625 \\cdot 1.25 \\cdot 0.015625 \\cdot (-0.75) \\\\\n",
        "        %\n",
        "        & \\approx -0.9638671875 < 0\n",
        "        %\n",
        "        \\end{split}\n",
        "        %\n",
        "  \\end{equation*}\n",
        "\n",
        "\n",
        "Dado que $f(a) \\cdot f(c) < 0$, la raíz está en [-0.5, 1.25].\n",
        "\n",
        "**Iteración 2**:\n",
        "- $a = -0.5$, $b = 1.25$\n",
        "- $c = \\frac{-0.5 + 1.25}{2} = 0.375$\n",
        "- \\begin{equation*}\n",
        "        %\n",
        "        \\begin{split}\n",
        "        %\n",
        "       f(c) = f(0.375) &= (0.375+2)(0.375+1)^2 \\cdot 0.375 \\cdot (0.375-1)^3 \\cdot (0.375-2) \\\\\n",
        "        %\n",
        "        & = 2.375 \\cdot 1.375^2 \\cdot 0.375 \\cdot (-0.625)^3 \\cdot (-1.625) \\\\\n",
        "        %\n",
        "        & = 2.375 \\cdot 1.890625 \\cdot 0.375 \\cdot -0.244140625 \\cdot (-1.625) \\\\\n",
        "        %\n",
        "        & \\approx 0.635 > 0\n",
        "        %\n",
        "        \\end{split}\n",
        "        %\n",
        "\\end{equation*}\n",
        "\n",
        "Dado que $f(a) \\cdot f(c) < 0$, la raíz está en [-0.5, 0.375].\n",
        "\n",
        "**Iteración 3**:\n",
        "- $a = -0.5$, $b = 0.375$\n",
        "- $c = \\frac{-0.5 + 0.375}{2} = -0.0625$\n",
        "-  \\begin{equation*}\n",
        "        %\n",
        "        \\begin{split}\n",
        "        %\n",
        "       f(c) = f(-0.0625) &= (-0.0625+2)(-0.0625+1)^2 \\cdot (-0.0625) \\cdot (-0.0625-1)^3 \\cdot (-0.0625-2) \\\\\n",
        "        %\n",
        "        & = 1.9375 \\cdot 0.9375^2 \\cdot (-0.0625) \\cdot (-1.0625)^3 \\cdot (-2.0625) \\\\\n",
        "        %\n",
        "        & =  1.9375 \\cdot 0.87890625 \\cdot (-0.0625) \\cdot -1.198974609375 \\cdot (-2.0625) \\\\\n",
        "        %\n",
        "        & \\approx  0.0718 > 0\n",
        "        %\n",
        "        \\end{split}\n",
        "        %\n",
        "\\end{equation*}\n",
        "\n",
        "Dado que $f(a) \\cdot f(c) < 0$, la raíz está en [-0.5, -0.0625].\n",
        "\n",
        "**Iteración 4**:\n",
        "- $a = -0.5$, $b = -0.0625$\n",
        "- $c = \\frac{-0.5 + (-0.0625)}{2} = -0.28125$\n",
        "- \\begin{equation*}\n",
        "        %\n",
        "        \\begin{split}\n",
        "        %\n",
        "       f(c) = f(-0.28125) = (-0.28125+2)(-0.28125+1)^2 \\cdot (-0.28125) \\cdot (-0.28125-1)^3 \\cdot (-0.28125-2) \\\\\n",
        "        %\n",
        "        & = 1.71875 \\cdot 0.71875^2 \\cdot (-0.28125) \\cdot (-1.28125)^3 \\cdot (-2.28125) \\\\\n",
        "        %\n",
        "        & =  1.71875 \\cdot 0.5166015625 \\cdot (-0.28125) \\cdot -2.099609375 \\cdot (-2.28125) \\\\\n",
        "        %\n",
        "        & \\approx   -0.074< 0\n",
        "        %\n",
        "        \\end{split}\n",
        "        %\n",
        "\\end{equation*}\n",
        "\n",
        "\n",
        "Dado que $f(a) \\cdot f(c) < 0$, la raíz está en [-0.28125, -0.0625].\n",
        "\n",
        "**Iteración 5**:\n",
        "- $a = -0.28125$, $b = -0.0625$\n",
        "- $c = \\frac{-0.28125 + (-0.0625)}{2} = -0.171875$\n",
        "- \\begin{equation*}\n",
        "        %\n",
        "        \\begin{split}\n",
        "        %\n",
        "       f(c) = f(-0.171875) &= (-0.171875+2)(-0.171875+1)^2 \\cdot (-0.171875) \\cdot (-0.171875-1)^3 \\cdot (-0.171875-2) \\\\\n",
        "        %\n",
        "        & \\approx 1.828125 \\cdot 0.828125^2 \\cdot (-0.171875) \\cdot -1.171875^3 \\cdot (-2.171875) \\\\\n",
        "        %\n",
        "        & \\approx 1.828125 \\cdot 0.68505859375 \\cdot (-0.171875) \\cdot -1.60919189453125 \\cdot (-2.171875) \\\\\n",
        "        %\n",
        "        & \\approx    0.0708 > 0\n",
        "        %\n",
        "        \\end{split}\n",
        "        %\n",
        "\\end{equation*}\n",
        "\n",
        "\n",
        "Dado que $f(a) \\cdot f(c) < 0$, la raíz está en [-0.171875, -0.0625].\n",
        "\n",
        "## d) Intervalo \\([-3, -0.5]\\)\n",
        "\n",
        "**Iteración 1**:\n",
        "- $a = -3$, $b = -0.5$\n",
        "- $c = \\frac{-3 + (-0.5)}{2} = -1.75$\n",
        "- \\begin{equation*}\n",
        "        %\n",
        "        \\begin{split}\n",
        "        %\n",
        "       f(c) = f(-1.75) &= (-1.75+2)(-1.75+1)^2 \\cdot (-1.75) \\cdot (-1.75-1)^3 \\cdot (-1.75-2) \\\\\n",
        "        %\n",
        "        & \\approx 0.25 \\cdot 0.25^2 \\cdot (-1.75) \\cdot -2.75^3 \\cdot (-3.75)  \\\\\n",
        "        %\n",
        "        & \\approx 0.25 \\cdot 0.0625 \\cdot (-1.75) \\cdot -20.796875 \\cdot (-3.75) \\\\\n",
        "        %\n",
        "        & \\approx    1.72 > 0\n",
        "        %\n",
        "        \\end{split}\n",
        "        %\n",
        "\\end{equation*}\n",
        "\n",
        "\n",
        "Dado que $f(a) \\cdot f(c) < 0$, la raíz está en [-3, -1.75].\n",
        "\n",
        "**Iteración 2**:\n",
        "- $a = -3$, $b = -1.74$\n",
        "- $c = \\frac{-3 + (-1.75)}{2} = -2.375$\n",
        "- \\begin{equation*}\n",
        "        %\n",
        "        \\begin{split}\n",
        "        %\n",
        "       f(c) = f(-2.375) &= (-2.375+2)(-2.375+1)^2 \\cdot (-2.375) \\cdot (-2.375-1)^3 \\cdot (-2.375-2) \\\\\n",
        "        %\n",
        "        & \\approx   -0.375 \\cdot (-1.375)^2 \\cdot (-2.375) \\cdot -3.375^3 \\cdot (-4.375)  \\\\\n",
        "        %\n",
        "        & \\approx  -0.375 \\cdot 1.890625 \\cdot (-2.375) \\cdot -38.44921875 \\cdot (-4.375) \\\\\n",
        "        %\n",
        "        & \\approx     2.77 > 0\n",
        "        %\n",
        "        \\end{split}\n",
        "        %\n",
        "\\end{equation*}\n",
        "\n",
        "\n",
        "\n",
        "Dado que $f(a) \\cdot f(c) < 0$, la raíz está en [-3, -2.375].\n",
        "\n",
        "**Iteración 3**:\n",
        "- $a = -3$, $b = -2.375$\n",
        "- $c = \\frac{-3 + (-2.375)}{2} = -2.6875$\n",
        "- \\begin{equation*}\n",
        "        %\n",
        "        \\begin{split}\n",
        "        %\n",
        "       f(c) =  f(-2.6875) &= (-2.6875+2)(-2.6875+1)^2 \\cdot  (-2.6875) \\cdot (-2.6875-1)^3 \\cdot (-2.6875-2) \\\\\n",
        "        %\n",
        "        & \\approx   -0.6875 \\cdot (-1.6875)^2 \\cdot (-2.6875) \\cdot -3.6875^3 \\cdot (-4.6875)  \\\\\n",
        "        %\n",
        "        & \\approx -0.6875 \\cdot 2.84765625 \\cdot (-2.6875) \\cdot -50.11865234375 \\cdot (-4.6875) \\\\\n",
        "        %\n",
        "        & \\approx     3.95 > 0\n",
        "        %\n",
        "        \\end{split}\n",
        "        %\n",
        "\\end{equation*}\n",
        "\n",
        "\n",
        "Dado que $f(a) \\cdot f(c) < 0$, la raíz está en [-3, -2.6875].\n",
        "\n",
        "**Iteración 4**:\n",
        "- $a = -3$, $b = -2.6875$\n",
        "- $c = \\frac{-3 + (-2.6875)}{2} = -2.84375$\n",
        "- \\begin{equation*}\n",
        "        %\n",
        "        \\begin{split}\n",
        "        %\n",
        "       f(c) =  f(-2.84375) &= (-2.84375+2)(-2.84375+1)^2 \\cdot (-2.84375) \\cdot (-2.84375-1)^3 \\cdot (-2.84375-2) \\\\\n",
        "        %\n",
        "        & \\approx -0.84375 \\cdot (-1.84375)^2 \\cdot (-2.84375) \\cdot -4.84375^3 \\cdot (-5.84375)  \\\\\n",
        "        %\n",
        "        & \\approx -0.84375 \\cdot 3.3994140625 \\cdot (-2.84375) \\cdot -56.8759765625 \\cdot (-5.84375) \\\\\n",
        "        %\n",
        "        & \\approx 6.23 > 0\n",
        "        %\n",
        "        \\end{split}\n",
        "        %\n",
        "\\end{equation*}\n",
        "\n",
        "\n",
        "Dado que $f(a) \\cdot f(c) < 0$, la raíz está en [-3, -2.84375].\n",
        "\n",
        "**Iteración 5**:\n",
        "- $a = -3$, $b = -2.84375$\n",
        "- $c = \\frac{-3 + (-2.84375)}{2} = -2.921875$\n",
        "- \\begin{equation*}\n",
        "        %\n",
        "        \\begin{split}\n",
        "        %\n",
        "       f(c) = f(-2.921875) &= (-2.921875+2)(-2.921875+1)^2 \\cdot (-2.921875) \\cdot (-2.921875-1)^3 \\cdot (-2.921875-2) \\\\\n",
        "        %\n",
        "        & \\approx   -0.921875 \\cdot (-1.921875)^2 \\cdot (-2.921875) \\cdot -4.921875^3 \\cdot (-5.921875)  \\\\\n",
        "        %\n",
        "        & \\approx  -0.921875 \\cdot 3.692626953125 \\cdot (-2.921875) \\cdot -58.8369140625 \\cdot (-5.921875) \\\\\n",
        "        %\n",
        "        & \\approx     6.79 > 0\n",
        "        %\n",
        "        \\end{split}\n",
        "        %\n",
        "\\end{equation*}\n",
        "\n",
        "\n",
        "Dado que $f(a) \\cdot f(c) < 0$, la raíz está en [-3, -2.921875].\n",
        "\n",
        "\n",
        "### Entonces:\n",
        "\n",
        "- **Intervalo a) [-1.5, 2.5]**: El método de bisección converge a \\( x = 0 \\).\n",
        "- **Intervalo b) [-0.5, 2.4]**: El método de bisección converge a \\( x = 0 \\) (primeras 5 iteraciones indican la misma convergencia).\n",
        "- **Intervalo c) [-0.5, 3]**: El método de bisección converge a \\( x = 1 \\) (a partir de la tercera iteración).\n",
        "- **Intervalo d) [-3, -0.5]**: El método de bisección converge a \\( x = -2 \\).\n"
      ],
      "metadata": {
        "id": "y2hGMGVbJEM_"
      }
    },
    {
      "cell_type": "markdown",
      "source": [
        "4. Hallar una aproximación a $\\sqrt{3}$ con una tolerancia de $10^{-4}$ usando el algoritmo de Bisección. [Hint: considerar $f(x)=x^2-3$.]\n",
        "siguientes funciones con una tolerancia de $10^{-5}$.\n",
        "*   Escribir las primeras 5 iteraciones del método.\n",
        "[Ejercicio].\n",
        "*   Implementando el programa.\n",
        "[Computacional].\n"
      ],
      "metadata": {
        "id": "j1XH-L6sSQ99"
      }
    },
    {
      "cell_type": "markdown",
      "source": [
        "Para encontrar una aproximación a $\\sqrt{3}$ utilizando el método de bisección, podemos considerar la función $f(x) = x^2 - 3$. Queremos encontrar la raíz de esta función con una tolerancia de $10^{-4}$.\n",
        "\n",
        "## a) Primeras 5 iteraciones del método\n",
        "\n",
        "El intervalo inicial que podemos considerar es [1, 2], ya que $\\sqrt{3}$ está entre 1 y 2.\n",
        "\n",
        "### Iteración 1:\n",
        "- $a = 1$, $b = 2$\n",
        "- $c = \\frac{1 + 2}{2} = 1.5$\n",
        "- $f(c) = 1.5^2 - 3 = 2.25 - 3 = -0.75$\n",
        "\n",
        "Dado que $f(1) \\times f(1.5) < 0$, la raíz está en [1.5, 2].\n",
        "\n",
        "### Iteración 2:\n",
        "- $a = 1.5$, $b = 2$\n",
        "- $c = \\frac{1.5 + 2}{2} = 1.75$\n",
        "- $f(c) = 1.75^2 - 3 = 3.0625 - 3 = 0.0625$\n",
        "\n",
        "Dado que $f(1.5) \\times f(1.75) < 0$, la raíz está en [1.5, 1.75].\n",
        "\n",
        "### Iteración 3:\n",
        "- $a = 1.5$, $b = 1.75$\n",
        "- $c = \\frac{1.5 + 1.75}{2} = 1.625$\n",
        "- $f(c) = 1.625^2 - 3 = 2.640625 - 3 = -0.359375$\n",
        "\n",
        "Dado que $f(1.5) \\times f(1.625) < 0$, la raíz está en [1.625, 1.75].\n",
        "\n",
        "### Iteración 4:\n",
        "- $a = 1.625$, $b = 1.75$\n",
        "- $c = \\frac{1.625 + 1.75}{2} = 1.6875$\n",
        "- $f(c) = 1.6875^2 - 3 = 2.84765625 - 3 = -0.15234375$\n",
        "\n",
        "Dado que $f(1.625) \\times f(1.6875) < 0$, la raíz está en [1.6875, 1.75].\n",
        "\n",
        "### Iteración 5:\n",
        "- $a = 1.6875$, $b = 1.75$\n",
        "- $c = \\frac{1.6875 + 1.75}{2} = 1.71875$\n",
        "- $f(c) = 1.71875^2 - 3 = 2.9541015625 - 3 = -0.0458984375$\n",
        "\n",
        "Dado que $f(1.6875) \\times f(1.71875) < 0$, la raíz está en [1.71875, 1.75].\n"
      ],
      "metadata": {
        "id": "8AI2EgMtTBmA"
      }
    },
    {
      "cell_type": "markdown",
      "source": [
        "## b) Implementación del programa\n"
      ],
      "metadata": {
        "id": "cRTaKFFRTLfv"
      }
    },
    {
      "cell_type": "code",
      "source": [
        "# Definimos los parámetros\n",
        "func_str = \"x**2 - 3\"\n",
        "a = 1\n",
        "b = 2\n",
        "tolerancia = 1e-4\n",
        "max_iter = 100\n",
        "\n",
        "# Llamamos al método de bisección\n",
        "raiz = biseccion_metodo(func_str, a, b, tolerancia, max_iter)\n",
        "print(f\"La raíz aproximada es: {raiz}\")"
      ],
      "metadata": {
        "colab": {
          "base_uri": "https://localhost:8080/"
        },
        "id": "_7xYTaabTSab",
        "outputId": "2f580c09-740e-4193-b0a9-5ed183db4373"
      },
      "execution_count": 8,
      "outputs": [
        {
          "output_type": "stream",
          "name": "stdout",
          "text": [
            "La raíz aproximada es: 1.7320556640625\n"
          ]
        }
      ]
    },
    {
      "cell_type": "markdown",
      "source": [
        "5. La función definida por $f(x)=\\sin (\\pi x)$ tiene ceros en todos los enteros. Muestre que cuando $-1 <a <0$ y $2<b<3$, el método de bisección converge a\n",
        "*   a) 0 , si $a+b<2$.\n",
        "*   b) 2 , si $a+b>2$.\n",
        "*   c) 1 , si $a+b=2$.\n",
        "\n",
        "[Ejercicio]."
      ],
      "metadata": {
        "id": "AAx4AxImjtqT"
      }
    },
    {
      "cell_type": "markdown",
      "source": [
        "Función:  $f(x) = \\sin(\\pi x)$\n",
        "\n",
        "Ceros en todos los enteros: $x = n$, donde $n$ es un entero.\n",
        "\n",
        "\n",
        "## a) 0 si a + b < 2\n",
        "**Intervalo inicial**:\n",
        "   - $-1 < a < 0$\n",
        "   - $2 < b < 3$\n",
        "   - $a + b < 2$\n",
        "\n",
        "Dividimos el intervalo [a, b] en dos partes iguales:\n",
        "   $c = \\frac{a + b}{2}$\n",
        "\n",
        "Si $a + b < 2$, entonces $c < 1$.\n",
        "  c está en el intervalo (a, b).\n",
        "   - Si $f(a) \\cdot f(c) < 0$, entonces la raíz está en [a, c].\n",
        "   - Si $f(c) \\cdot f(b) < 0$, entonces la raíz está en [c, b].\n",
        "\n",
        " En este caso, $c < 1$, y la raíz hacia la que converge el método de bisección es $x = 0$, porque $f(c) = \\sin(\\pi c)$ cambiará de signo en el intervalo [a, c], donde $a < 0 < c < 1$.\n",
        "\n",
        "## b) 2 si $a + b > 2$\n",
        " **Intervalo inicial**:\n",
        "   - $ -1 < a < 0$\n",
        "   - $ 2 < b < 3$\n",
        "   - $a + b > 2$\n",
        ":\n",
        "   Dividimos el intervalo [a, b] en dos partes iguales:\n",
        "   $c = \\frac{a + b}{2}$\n",
        "\n",
        "Si $a + b > 2 $, entonces $c > 1$.\n",
        "\n",
        "   - Si $ f(a) \\cdot f(c) < 0$, entonces la raíz está en [a, c].\n",
        "   - Si  $f(c) \\cdot f(b) < 0$, entonces la raíz está en [c, b].\n",
        "\n",
        " En este caso, $ c > 1$, y la raíz hacia la que converge el método de bisección es $x = 2$, porque $f(c) = \\sin(\\pi c)$ cambiará de signo en el intervalo [c, b], donde $1 < c < 2 < b.\n",
        "\n",
        "## c) 1 si $a + b = 2$\n",
        " **Intervalo inicial**:\n",
        "   - $ -1 < a < 0$\n",
        "   - $2 < b < 3$\n",
        "   - $a + b = 2$\n",
        "\n",
        "Dividimos el intervalo [a, b] en dos partes iguales:\n",
        "  $c = \\frac{a + b}{2}$\n",
        "\n",
        "Si $a + b = 2$, entonces $c = 1$.\n",
        " En este caso, $f(c) = \\sin(\\pi c) = \\sin(\\pi \\cdot 1) = \\sin(\\pi) = 0$.\n",
        "\n",
        "Si  $a + b = 2$, el método de bisección converge directamente a  $x = 1$ en la primera iteración porque $c = 1$.\n",
        "\n",
        "### Entonces:\n",
        "\n",
        "- **a)  0, si  $a + b < 2$**:\n",
        "   La raíz es  $x = 0$, ya que el método de bisección converge a 0 cuando $c < 1$.\n",
        "- **b) 2, si $a + b > 2$**:\n",
        "   La raíz es $x = 2$, ya que el método de bisección converge a  2 cuando $c > 1$.\n",
        "- **c) 1, si $a + b = 2$**:\n",
        "   La raíz es $x = 1$, ya que el método de bisección converge directamente a \\( 1 \\) cuando $c = 1$."
      ],
      "metadata": {
        "id": "oQk1RqPYkY8Y"
      }
    },
    {
      "cell_type": "markdown",
      "source": [
        "6. Sea la función $f(x)=x^4+2 x^2-x-3$\n",
        "*   a) Manipulando la función $f$ da dos variantes de ella, de tal forma que se puede ver como una función $f(x)=g_i(x)-x$ de punto fijo para $i=1,2$.\n",
        "*   b) De cada una de las funciones realizar 4 iteraciones del método de Punto Fijo con $x_0=1$.\n",
        "*   c) Calcular la derivada de $g_i(x)$ y decir si el método eventualmente converge para éstas funciones."
      ],
      "metadata": {
        "id": "Hk5KkK-EogLB"
      }
    },
    {
      "cell_type": "markdown",
      "source": [
        "### a) Manipulación de la función f para obtener $g_i(x)$ de punto fijo\n",
        "\n",
        "Queremos manipular  $f(x)$ para obtener dos funciones $g_1(x)$ y $g_2(x)$ de tal forma que:\n",
        " $f(x) = g_i(x) - x$\n",
        "\n",
        "Para esto, despejamos x en términos de $g(x)$:\n",
        "$x = g_i(x)$\n",
        "\n",
        "Sustituyendo, tenemos que:\n",
        "$ x = x^4 + 2x^2 - x - 3 + x$\n",
        "$g_1(x) = x^4 + 2x^2 - 3$\n",
        "\n",
        "Otra manera de manipular la función es:\n",
        "$x = \\sqrt{\\frac{x + 3}{2}}$\n",
        "$g_2(x) = \\sqrt{\\frac{x + 3}{2}}$\n",
        "\n",
        "### b) Realización de 4 iteraciones del método de Punto Fijo con $x_0 = 1$\n"
      ],
      "metadata": {
        "id": "gNuM4RJ2yvl7"
      }
    },
    {
      "cell_type": "code",
      "source": [
        "import numpy as np\n",
        "\n",
        "def punto_fijo(g_func, x0, max_iter):\n",
        "    x = x0\n",
        "    resultado = [x]\n",
        "    for k in range(max_iter):\n",
        "        x_s = g_func(x)\n",
        "        resultado.append(x_s)\n",
        "        x = x_s\n",
        "    return resultado\n",
        "\n",
        "# Definimos las funciones g1 y g2\n",
        "def g1(x):\n",
        "    return x**4 + 2*x**2 - 3\n",
        "\n",
        "def g2(x):\n",
        "    return np.sqrt((x + 3) / 2)\n",
        "\n",
        "# Parámetros del problema\n",
        "x0 = 1.0  # Valor inicial\n",
        "max_iter = 4\n",
        "\n",
        "# Realizamos la iteración de Punto Fijo para g1 y g2\n",
        "iter_g1 = punto_fijo(g1, x0, max_iter)\n",
        "iter_g2 = punto_fijo(g2, x0, max_iter)\n",
        "\n",
        "print(f\"Iteraciones para g1(x) = x^4 + 2x^2 - 3 con x0 = 1: {iter_g1}\")\n",
        "print(f\"Iteraciones para g2(x) = sqrt((x + 3) / 2) con x0 = 1: {iter_g2}\")\n"
      ],
      "metadata": {
        "colab": {
          "base_uri": "https://localhost:8080/"
        },
        "id": "s0WvKq1cywrC",
        "outputId": "a3557a6c-6153-4ded-8ad6-ca1cd9d7e349"
      },
      "execution_count": 41,
      "outputs": [
        {
          "output_type": "stream",
          "name": "stdout",
          "text": [
            "Iteraciones para g1(x) = x^4 + 2x^2 - 3 con x0 = 1: [1.0, 0.0, -3.0, 96.0, 84953085.0]\n",
            "Iteraciones para g2(x) = sqrt((x + 3) / 2) con x0 = 1: [1.0, 1.4142135623730951, 1.4856334612503004, 1.4976036627309477, 1.4996005572703264]\n"
          ]
        }
      ]
    },
    {
      "cell_type": "markdown",
      "source": [
        "### c) Cálculo de la derivada de g_i(x) y análisis de la convergencia\n",
        "\n",
        "Calculamos las derivadas de $g_1(x)$ y $g_2(x)$ y analizamos si el método eventualmente converge para estas funciones.\n",
        "\n",
        "1. Para $ g_1(x) = x^4 + 2x^2 - 3$:\n",
        "$g_1'(x) = 4x^3 + 4x$\n",
        "\n",
        "2. Para $g_2(x) = \\sqrt{\\frac{x + 3}{2}}$:\n",
        "$g_2'(x) = \\frac{1}{4\\sqrt{\\frac{x + 3}{2}}}$\n",
        "\n",
        "\n",
        "El criterio de convergencia para el método de Punto Fijo es que $|g_i'(x)| < 1$ en el intervalo de interés.\n",
        "\n",
        "1. Calculamos $ g_1'(1) = 4(1)^3 + 4(1) = 8$.\n",
        "   Dado que $|g_1'(x)| = 8$, que es mayor que 1, el método no converge para $g_1(x)$.\n",
        "\n",
        "2. Calculamos $g_2'(1) = \\frac{1}{4\\sqrt{\\frac{1 + 3}{2}}} = \\frac{1}{4\\sqrt{2}} = \\frac{1}{4\\sqrt{2}} \\approx 0.177$.\n",
        "Dado que $|g_2'(1)| \\approx 0.177$, que es menor que 1, el método converge para $g_2(x)$.\n"
      ],
      "metadata": {
        "id": "eyk1QA5jzwrG"
      }
    },
    {
      "cell_type": "code",
      "source": [
        "# Derivadas de g1 y g2\n",
        "def g1_prime(x):\n",
        "    return 4*x**3 + 4*x\n",
        "\n",
        "def g2_prime(x):\n",
        "    return 1 / (4 * np.sqrt((x + 3) / 2))\n",
        "\n",
        "print(f\"g1'(1) = {g1_prime(1)}\")\n",
        "print(f\"g2'(1) = {g2_prime(1)}\")\n",
        "\n",
        "print(f\"El método de Punto Fijo no converge para g1(x) porque |g1'(1)| > 1\")\n",
        "print(f\"El método de Punto Fijo converge para g2(x) porque |g2'(1)| < 1\")\n"
      ],
      "metadata": {
        "colab": {
          "base_uri": "https://localhost:8080/"
        },
        "id": "PLb6aWmW0hjh",
        "outputId": "408c1d03-8661-40dc-cbdd-7a5398694c38"
      },
      "execution_count": 42,
      "outputs": [
        {
          "output_type": "stream",
          "name": "stdout",
          "text": [
            "g1'(1) = 8\n",
            "g2'(1) = 0.17677669529663687\n",
            "El método de Punto Fijo no converge para g1(x) porque |g1'(1)| > 1\n",
            "El método de Punto Fijo converge para g2(x) porque |g2'(1)| < 1\n"
          ]
        }
      ]
    },
    {
      "cell_type": "markdown",
      "source": [
        "7. Usar la iteración de Punto Fijo para mostrar que la función $g(x)=\\pi+0.5 \\sin (x / 2)$ tiene un punto fijo en el intervalo $[0,2 \\pi]$ con una tolerancia de $10^{-2}$. (Programar el ejemplo en específico con una gráfica de la función).\n",
        "\n",
        "[Computacional]\n"
      ],
      "metadata": {
        "id": "o1DLb9c8rnd4"
      }
    },
    {
      "cell_type": "code",
      "source": [
        "import numpy as np\n",
        "import matplotlib.pyplot as plt\n",
        "\n",
        "def punto_fijo_metodo(g_func, x0, tol, max_iter):\n",
        "    x = x0\n",
        "    for k in range(max_iter):\n",
        "        x_s = g_func(x)\n",
        "        if abs(x_s - x) < tol:\n",
        "            return x_s, k + 1\n",
        "        x = x_s\n",
        "    return x, max_iter\n",
        "\n",
        "# Definimos la función g(x)\n",
        "def g(x):\n",
        "    return np.pi + 0.5 * np.sin(x / 2)\n",
        "\n",
        "# Parámetros del problema\n",
        "x0 = 1.0  # Valor inicial\n",
        "tolerancia = 1e-2\n",
        "max_iteraciones = 100\n",
        "\n",
        "# Llamamos a la iteración de Punto Fijo\n",
        "raiz, iteraciones = punto_fijo_metodo(g, x0, tolerancia, max_iteraciones)\n",
        "print(f\"El punto fijo encontrado es: {raiz} en {iteraciones} iteraciones\")\n",
        "\n",
        "# Graficamos la función g(x) y la línea y = x\n",
        "x_val = np.linspace(0, 2 * np.pi, 400)\n",
        "g_val = g(x_val)\n",
        "id_val = x_val\n",
        "\n",
        "plt.figure(figsize=(10, 6))\n",
        "plt.plot(x_val, g_val, label='$g(x) = \\\\pi + 0.5 \\\\sin(x / 2)$')\n",
        "plt.plot(x_val, id_val, label='$y = x$', linestyle='--')\n",
        "plt.scatter(raiz, raiz, color='red')  # Punto fijo encontrado\n",
        "plt.title('Iteración de Punto Fijo para $g(x) = \\\\pi + 0.5 \\\\sin(x / 2)$')\n",
        "plt.xlabel('$x$')\n",
        "plt.ylabel('$y$')\n",
        "plt.legend()\n",
        "plt.grid(True)\n",
        "plt.show()\n"
      ],
      "metadata": {
        "colab": {
          "base_uri": "https://localhost:8080/",
          "height": 584
        },
        "id": "dBZ0XTsKxJKt",
        "outputId": "316dba91-e054-49df-d769-60072c628df3"
      },
      "execution_count": 36,
      "outputs": [
        {
          "output_type": "stream",
          "name": "stdout",
          "text": [
            "El punto fijo encontrado es: 3.6269823617156867 en 4 iteraciones\n"
          ]
        },
        {
          "output_type": "display_data",
          "data": {
            "text/plain": [
              "<Figure size 1000x600 with 1 Axes>"
            ],
            "image/png": "[encoded data removed]"
          },
          "metadata": {}
        }
      ]
    },
    {
      "cell_type": "markdown",
      "source": [
        "8. Mostrar las primeras 5 iteraciones del Método de Newton para hallar el cero de $f(x)=x^2-6$ con $x_0=1$.\n",
        "[Ejercicio]\n"
      ],
      "metadata": {
        "id": "Pm_mgFsNpJi1"
      }
    },
    {
      "cell_type": "markdown",
      "source": [
        "El Método de Newton se define por la fórmula de iteración:\n",
        "   $x_{n+1} = x_n - \\frac{f(x_n)}{f'(x_n)}$\n",
        "   donde $f(x) = x^2 - 6$ y su derivada $f'(x) = 2x$.\n",
        "Y el punto inicial es: $x_0 = 1$\n",
        "\n",
        "### Iteración 1:\n",
        "- $x_0 = 1$\n",
        "- $f(x_0) = 1^2 - 6 = -5$\n",
        "- $f'(x_0) = 2 \\cdot 1 = 2$\n",
        "- $ x_1 = 1 - \\frac{-5}{2 \\cdot 1} = 1 + 2.5 = 3.5$\n",
        "\n",
        "### Iteración 2:\n",
        "- $x_1 = 3.5$\n",
        "- $f(x_1) = 3.5^2 - 6 = 12.25 - 6 = 6.25$\n",
        "- $f'(x_1) = 2 \\cdot 3.5 = 7$\n",
        "- $ x_2 = 3.5 - \\frac{6.25}{7} = 3.5 - 0.8928571428571429 \\approx 2.607142857142857$\n",
        "\n",
        "### Iteración 3:\n",
        "- $x_2 = 2.607142857142857$\n",
        "- $f(x_2) = 2.607142857142857^2 - 6 = 6.796337099494437 - 6 = 0.796337099494437$\n",
        "- $f'(x_2) = 2 \\cdot 2.607142857142857 = 5.214285714285714$\n",
        "- $ x_3 = 2.607142857142857 - \\frac{0.796337099494437}{5.214285714285714} \\approx 2.455832159502662$\n",
        "\n",
        "### Iteración 4:\n",
        "- $x_3 = 2.455832159502662$\n",
        "- $f(x_3) = 2.455832159502662^2 - 6 = 6.030311371116592 - 6 = 0.03031137111659214$\n",
        "- $f'(x_3) = 2 \\cdot 2.455832159502662 = 4.911664319005324$\n",
        "- $x_4 = 2.455832159502662 - \\frac{0.03031137111659214}{4.911664319005324} \\approx 2.4494943716069653$\n",
        "\n",
        "### Iteración 5:\n",
        "- $x_4 = 2.4494943716069653$\n",
        "- $f(x_4) = 2.4494943716069653^2 - 6 = 6.000025522431968 - 6 = 0.000025522431968302065$\n",
        "- $f'(x_4) = 2 \\cdot 2.4494943716069653 = 4.898988743213931$\n",
        "- $ x_5 = 2.4494943716069653 - \\frac{0.000025522431968302065}{4.898988743213931} \\approx 2.449489742783178$\n"
      ],
      "metadata": {
        "id": "0vZd4oiTpUHZ"
      }
    },
    {
      "cell_type": "markdown",
      "source": [
        "9.Usar Newton para hallar la solución de las siguientes funciones con una tolerancia de $10^{-5}$ :\n",
        "*   a) $f(x)=e^x+2^{-x}+2 \\cos (x)-6=0$ para $1 \\leq x \\leq 2$.\n",
        "*   b) $f(x)=2 x \\cos (2 x)-(x-2)^2=0$ para $2 \\leq x \\leq 3$ y $3 \\leq x \\leq 4$.\n",
        "*   c) $f(x)=e^x-3 x^2=0$ para $0 \\leq x \\leq 1$ y $3 \\leq x \\leq 5$.\n",
        "\n",
        "[Computacional]\n",
        "\n"
      ],
      "metadata": {
        "id": "icpSrzycreMt"
      }
    },
    {
      "cell_type": "code",
      "source": [
        "# Definimos los parámetros\n",
        "func_a = \"exp(x) + 2**(-x) + 2*cos(x) - 6\"\n",
        "x0_a = 1.5  # Un valor inicial dentro del intervalo [1, 2]\n",
        "tolerancia = 1e-5\n",
        "max_iter = 100\n",
        "\n",
        "# Llamamos al método de Newton\n",
        "raiz_a = newton_metodo(func_a, x0_a, tolerancia, max_iter)\n",
        "print(f\"La raíz encontrada para la función a) en el intervalo [1, 2] es: {raiz_a}\")\n"
      ],
      "metadata": {
        "colab": {
          "base_uri": "https://localhost:8080/"
        },
        "id": "qd2az4ojsHXR",
        "outputId": "da82d1ed-fd4b-4a7c-9601-70dd9aa55e1f"
      },
      "execution_count": 16,
      "outputs": [
        {
          "output_type": "stream",
          "name": "stdout",
          "text": [
            "La raíz encontrada para la función a) en el intervalo [1, 2] es: 1.829383601933849\n"
          ]
        }
      ]
    },
    {
      "cell_type": "code",
      "source": [
        "# Definimos los parámetros para el primer intervalo [2, 3]\n",
        "func_b = \"2*x*cos(2*x) - (x-2)**2\"\n",
        "x0_b1 = 2.5  # Un valor inicial dentro del intervalo [2, 3]\n",
        "\n",
        "# Llamamos al método de Newton\n",
        "raiz_b1 = newton_metodo(func_b, x0_b1, tolerancia, max_iter)\n",
        "print(f\"La raíz encontrada para la función b) en el intervalo [2, 3] es: {raiz_b1}\")\n",
        "\n",
        "# Definimos los parámetros para el segundo intervalo [3, 4]\n",
        "x0_b2 = 3.5  # Un valor inicial dentro del intervalo [3, 4]\n",
        "\n",
        "# Llamamos al método de Newton\n",
        "raiz_b2 = newton_metodo(func_b, x0_b2, tolerancia, max_iter)\n",
        "print(f\"La raíz encontrada para la función b) en el intervalo [3, 4] es: {raiz_b2}\")\n"
      ],
      "metadata": {
        "colab": {
          "base_uri": "https://localhost:8080/"
        },
        "id": "5lHQvP19sgkQ",
        "outputId": "2a80fc4b-6b51-4b0a-fd56-3476f930bcf0"
      },
      "execution_count": 15,
      "outputs": [
        {
          "output_type": "stream",
          "name": "stdout",
          "text": [
            "La raíz encontrada para la función b) en el intervalo [2, 3] es: 2.370686917662517\n",
            "La raíz encontrada para la función b) en el intervalo [3, 4] es: 3.722112773106613\n"
          ]
        }
      ]
    },
    {
      "cell_type": "code",
      "source": [
        "# Definimos los parámetros para el primer intervalo [0, 1]\n",
        "func_c = \"exp(x) - 3*x**2\"\n",
        "x0_c1 = 0.5  # Un valor inicial dentro del intervalo [0, 1]\n",
        "\n",
        "# Llamamos al método de Newton\n",
        "raiz_c1 = newton_metodo(func_c, x0_c1, tolerancia, max_iter)\n",
        "print(f\"La raíz encontrada para la función c) en el intervalo [0, 1] es: {raiz_c1}\")\n",
        "\n",
        "# Definimos los parámetros para el segundo intervalo [3, 5]\n",
        "x0_c2 = 4  # Un valor inicial dentro del intervalo [3, 5]\n",
        "\n",
        "# Llamamos al método de Newton\n",
        "raiz_c2 = newton_metodo(func_c, x0_c2, tolerancia, max_iter)\n",
        "print(f\"La raíz encontrada para la función c) en el intervalo [3, 5] es: {raiz_c2}\")\n"
      ],
      "metadata": {
        "colab": {
          "base_uri": "https://localhost:8080/"
        },
        "id": "ZyDH_7JXtEzP",
        "outputId": "d7b4535e-ce81-41ff-c28c-714d1e7b42a6"
      },
      "execution_count": 18,
      "outputs": [
        {
          "output_type": "stream",
          "name": "stdout",
          "text": [
            "La raíz encontrada para la función c) en el intervalo [0, 1] es: 0.9100075724887138\n",
            "La raíz encontrada para la función c) en el intervalo [3, 5] es: 3.733079028654685\n"
          ]
        }
      ]
    },
    {
      "cell_type": "markdown",
      "source": [
        "10. Calcular las raíces del ejercicio 9 con el método de Secante.\n",
        "\n",
        "[Computacional].\n"
      ],
      "metadata": {
        "id": "YdY7lZPQtZsq"
      }
    },
    {
      "cell_type": "code",
      "source": [
        "# Definimos los parámetros\n",
        "func_a = \"exp(x) + 2**(-x) + 2*cos(x) - 6\"\n",
        "x0_a = 1.0  # Un valor inicial dentro del intervalo [1, 2]\n",
        "x1_a = 2.0  # Otro valor inicial dentro del intervalo [1, 2]\n",
        "tolerancia = 1e-5\n",
        "max_iter = 100\n",
        "\n",
        "# Llamamos al método de la secante\n",
        "raiz_a = secante_metodo(func_a, x0_a, x1_a, tolerancia, max_iter)\n",
        "print(f\"La raíz encontrada para la función a) en el intervalo [1, 2] es: {raiz_a}\")\n"
      ],
      "metadata": {
        "colab": {
          "base_uri": "https://localhost:8080/"
        },
        "id": "8mB5NbBati3q",
        "outputId": "1a23b396-49c2-43cc-f643-f238e5cd207b"
      },
      "execution_count": 25,
      "outputs": [
        {
          "output_type": "stream",
          "name": "stdout",
          "text": [
            "La raíz encontrada para la función a) en el intervalo [1, 2] es: 1.8293836019394727\n"
          ]
        }
      ]
    },
    {
      "cell_type": "code",
      "source": [
        "# Definimos los parámetros para el primer intervalo [2, 3]\n",
        "func_b = \"2*x*cos(2*x) - (x-2)**2\"\n",
        "x0_b1 = 2.0  # Un valor inicial dentro del intervalo [2, 3]\n",
        "x1_b1 = 3.0  # Otro valor inicial dentro del intervalo [2, 3]\n",
        "\n",
        "# Llamamos al método de la secante\n",
        "raiz_b1 = secante_metodo(func_b, x0_b1, x1_b1, tolerancia, max_iter)\n",
        "print(f\"La raíz encontrada para la función b) en el intervalo [2, 3] es: {raiz_b1}\")\n",
        "\n",
        "# Definimos los parámetros para el segundo intervalo [3, 4]\n",
        "x0_b2 = 3.0  # Un valor inicial dentro del intervalo [3, 4]\n",
        "x1_b2 = 4.0  # Otro valor inicial dentro del intervalo [3, 4]\n",
        "\n",
        "# Llamamos al método de la secante\n",
        "raiz_b2 = secante_metodo(func_b, x0_b2, x1_b2, tolerancia, max_iter)\n",
        "print(f\"La raíz encontrada para la función b) en el intervalo [3, 4] es: {raiz_b2}\")\n"
      ],
      "metadata": {
        "colab": {
          "base_uri": "https://localhost:8080/"
        },
        "id": "IZfXRT3muASQ",
        "outputId": "5ffcd858-004b-4535-cae2-9b65e92ec2a4"
      },
      "execution_count": 27,
      "outputs": [
        {
          "output_type": "stream",
          "name": "stdout",
          "text": [
            "La raíz encontrada para la función b) en el intervalo [2, 3] es: 2.3706869176623\n",
            "La raíz encontrada para la función b) en el intervalo [3, 4] es: 3.722112773420417\n"
          ]
        }
      ]
    },
    {
      "cell_type": "code",
      "source": [
        "# Definimos los parámetros para el primer intervalo [0, 1]\n",
        "func_c = \"exp(x) - 3*x**2\"\n",
        "x0_c1 = 0.0  # Un valor inicial dentro del intervalo [0, 1]\n",
        "x1_c1 = 1.0  # Otro valor inicial dentro del intervalo [0, 1]\n",
        "\n",
        "# Llamamos al método de la secante\n",
        "raiz_c1 = secante_metodo(func_c, x0_c1, x1_c1, tolerancia, max_iter)\n",
        "print(f\"La raíz encontrada para la función c) en el intervalo [0, 1] es: {raiz_c1}\")\n",
        "\n",
        "# Definimos los parámetros para el segundo intervalo [3, 5]\n",
        "x0_c2 = 3.0  # Un valor inicial dentro del intervalo [3, 5]\n",
        "x1_c2 = 5.0  # Otro valor inicial dentro del intervalo [3, 5]\n",
        "\n",
        "# Llamamos al método de la secante\n",
        "raiz_c2 = secante_metodo(func_c, x0_c2, x1_c2, tolerancia, max_iter)\n",
        "print(f\"La raíz encontrada para la función c) en el intervalo [3, 5] es: {raiz_c2}\")\n"
      ],
      "metadata": {
        "colab": {
          "base_uri": "https://localhost:8080/"
        },
        "id": "pB3QKyDCuWBM",
        "outputId": "b8427f12-2474-4b9e-b645-0a4de15ebc3f"
      },
      "execution_count": 28,
      "outputs": [
        {
          "output_type": "stream",
          "name": "stdout",
          "text": [
            "La raíz encontrada para la función c) en el intervalo [0, 1] es: 0.9100075715386231\n",
            "La raíz encontrada para la función c) en el intervalo [3, 5] es: 3.7330790313204982\n"
          ]
        }
      ]
    },
    {
      "cell_type": "markdown",
      "source": [
        "11. Calcular las raíces del ejercicio 9 con el método de Regla Falsa.\n",
        "\n",
        "[Computacional].\n"
      ],
      "metadata": {
        "id": "fRv-RSw9ulYf"
      }
    },
    {
      "cell_type": "code",
      "source": [
        "# Definimos los parámetros\n",
        "func_a = \"exp(x) + 2**(-x) + 2*cos(x) - 6\"\n",
        "a_a = 1.0  # Límite inferior del intervalo\n",
        "b_a = 2.0  # Límite superior del intervalo\n",
        "tolerancia = 1e-5\n",
        "max_iter = 100\n",
        "\n",
        "# Llamamos al método de Regla Falsa\n",
        "raiz_a = regla_falsa_metodo(func_a, a_a, b_a, tolerancia, max_iter)\n",
        "print(f\"La raíz encontrada para la función a) en el intervalo [1, 2] es: {raiz_a}\")\n"
      ],
      "metadata": {
        "colab": {
          "base_uri": "https://localhost:8080/"
        },
        "id": "uvSbRhSSup1N",
        "outputId": "339ef3cd-6477-41b5-b8a2-86ba8b80c9e0"
      },
      "execution_count": 29,
      "outputs": [
        {
          "output_type": "stream",
          "name": "stdout",
          "text": [
            "La raíz encontrada para la función a) en el intervalo [1, 2] es: 1.8293827208408329\n"
          ]
        }
      ]
    },
    {
      "cell_type": "code",
      "source": [
        "# Definimos los parámetros para el primer intervalo [2, 3]\n",
        "func_b = \"2*x*cos(2*x) - (x-2)**2\"\n",
        "a_b1 = 2.0  # Límite inferior del intervalo\n",
        "b_b1 = 3.0  # Límite superior del intervalo\n",
        "\n",
        "# Llamamos al método de Regla Falsa\n",
        "raiz_b1 = regla_falsa_metodo(func_b, a_b1, b_b1, tolerancia, max_iter)\n",
        "print(f\"La raíz encontrada para la función b) en el intervalo [2, 3] es: {raiz_b1}\")\n",
        "\n",
        "# Definimos los parámetros para el segundo intervalo [3, 4]\n",
        "a_b2 = 3.0  # Límite inferior del intervalo\n",
        "b_b2 = 4.0  # Límite superior del intervalo\n",
        "\n",
        "# Llamamos al método de Regla Falsa\n",
        "raiz_b2 = regla_falsa_metodo(func_b, a_b2, b_b2, tolerancia, max_iter)\n",
        "print(f\"La raíz encontrada para la función b) en el intervalo [3, 4] es: {raiz_b2}\")\n"
      ],
      "metadata": {
        "colab": {
          "base_uri": "https://localhost:8080/"
        },
        "id": "vCqOcdK4u6lh",
        "outputId": "ebfe8b4d-a7a3-4a52-cf4c-778d3c120b18"
      },
      "execution_count": 30,
      "outputs": [
        {
          "output_type": "stream",
          "name": "stdout",
          "text": [
            "La raíz encontrada para la función b) en el intervalo [2, 3] es: 2.370686907966889\n",
            "La raíz encontrada para la función b) en el intervalo [3, 4] es: 3.7221126198596197\n"
          ]
        }
      ]
    },
    {
      "cell_type": "code",
      "source": [
        "# Definimos los parámetros para el primer intervalo [0, 1]\n",
        "func_c = \"exp(x) - 3*x**2\"\n",
        "a_c1 = 0.0  # Límite inferior del intervalo\n",
        "b_c1 = 1.0  # Límite superior del intervalo\n",
        "\n",
        "# Llamamos al método de Regla Falsa\n",
        "raiz_c1 = regla_falsa_metodo(func_c, a_c1, b_c1, tolerancia, max_iter)\n",
        "print(f\"La raíz encontrada para la función c) en el intervalo [0, 1] es: {raiz_c1}\")\n",
        "\n",
        "# Definimos los parámetros para el segundo intervalo [3, 5]\n",
        "a_c2 = 3.0  # Límite inferior del intervalo\n",
        "b_c2 = 5.0  # Límite superior del intervalo\n",
        "\n",
        "# Llamamos al método de Regla Falsa\n",
        "raiz_c2 = regla_falsa_metodo(func_c, a_c2, b_c2, tolerancia, max_iter)\n",
        "print(f\"La raíz encontrada para la función c) en el intervalo [3, 5] es: {raiz_c2}\")\n"
      ],
      "metadata": {
        "colab": {
          "base_uri": "https://localhost:8080/"
        },
        "id": "0xBMYTu5vINK",
        "outputId": "e0329922-80aa-4dc6-ec0e-42b3b1636364"
      },
      "execution_count": 31,
      "outputs": [
        {
          "output_type": "stream",
          "name": "stdout",
          "text": [
            "La raíz encontrada para la función c) en el intervalo [0, 1] es: 0.9100067045095375\n",
            "La raíz encontrada para la función c) en el intervalo [3, 5] es: 3.7330786840488495\n"
          ]
        }
      ]
    },
    {
      "cell_type": "markdown",
      "source": [
        " 12. El siguiente polinomio\n",
        "$$\n",
        "P(x)=230 x^4+18 x^3+9 x^2-221 x-9\n",
        "$$\n",
        "tiene dos ceros, uno en $[-1,0]$ y otro en $[0,1]$, hallarlos con una tolerancia de $10^{-6}$ para\n",
        "*   a) Método de Regla Falsa.\n",
        "*   b) Método de Secante.\n",
        "*   c) Método de Newton.\n",
        "\n",
        "Usando los programas de cada método.\n",
        "\n",
        "[Computacional]\n"
      ],
      "metadata": {
        "id": "PafB-dLZvYUP"
      }
    },
    {
      "cell_type": "code",
      "source": [
        "# Definimos los parámetros para los intervalos\n",
        "func_str = \"230*x**4 + 18*x**3 + 9*x**2 - 221*x - 9\"\n",
        "tolerancia = 1e-6\n",
        "max_iter = 100\n",
        "\n",
        "# Intervalo [-1, 0]\n",
        "a_1, b_1 = -1.0, 0.0\n",
        "raiz_falsa_p_1 = regla_falsa_metodo(func_str, a_1, b_1, tolerancia, max_iter)\n",
        "print(f\"La raíz encontrada en el intervalo [-1, 0] usando Regla Falsa es: {raiz_falsa_p_1}\")\n",
        "\n",
        "# Intervalo [0, 1]\n",
        "a_2, b_2 = 0.0, 1.0\n",
        "raiz_falsa_p_2 = regla_falsa_metodo(func_str, a_2, b_2, tolerancia, max_iter)\n",
        "print(f\"La raíz encontrada en el intervalo [0, 1] usando Regla Falsa es: {raiz_falsa_p_2}\")\n"
      ],
      "metadata": {
        "colab": {
          "base_uri": "https://localhost:8080/"
        },
        "id": "ZM_NPt2lvyTH",
        "outputId": "67a3493c-339e-4368-b484-b14fe4dc32d0"
      },
      "execution_count": 32,
      "outputs": [
        {
          "output_type": "stream",
          "name": "stdout",
          "text": [
            "La raíz encontrada en el intervalo [-1, 0] usando Regla Falsa es: -0.04065928477092668\n",
            "La raíz encontrada en el intervalo [0, 1] usando Regla Falsa es: 0.962398418572024\n"
          ]
        }
      ]
    },
    {
      "cell_type": "code",
      "source": [
        "# Intervalo [-1, 0]\n",
        "x0_1, x1_1 = -1.0, 0.0\n",
        "raiz_secante_1 = secante_metodo(func_str, x0_1, x1_1, tolerancia, max_iter)\n",
        "print(f\"La raíz encontrada en el intervalo [-1, 0] usando Secante es: {raiz_secante_1}\")\n",
        "\n",
        "# Intervalo [0, 1]\n",
        "x0_2, x1_2 = 0.0, 1.0\n",
        "raiz_secante_2 = secante_metodo(func_str, x0_2, x1_2, tolerancia, max_iter)\n",
        "print(f\"La raíz encontrada en el intervalo [0, 1] usando Secante es: {raiz_secante_2}\")\n"
      ],
      "metadata": {
        "colab": {
          "base_uri": "https://localhost:8080/"
        },
        "id": "ipDzhs-EwLyC",
        "outputId": "a1a0aca8-90d6-45c3-984a-d52ddcb46e02"
      },
      "execution_count": 33,
      "outputs": [
        {
          "output_type": "stream",
          "name": "stdout",
          "text": [
            "La raíz encontrada en el intervalo [-1, 0] usando Secante es: -0.040659288315725135\n",
            "La raíz encontrada en el intervalo [0, 1] usando Secante es: -0.04065928831557162\n"
          ]
        }
      ]
    },
    {
      "cell_type": "code",
      "source": [
        "# Intervalo [-1, 0]\n",
        "x0_1 = -0.5  # Un valor inicial dentro del intervalo [-1, 0]\n",
        "raiz_newton_1 = newton_metodo(func_str, x0_1, tolerancia, max_iter)\n",
        "print(f\"La raíz encontrada en el intervalo [-1, 0] usando Newton es: {raiz_newton_1}\")\n",
        "\n",
        "# Intervalo [0, 1]\n",
        "x0_2 = 0.5  # Un valor inicial dentro del intervalo [0, 1]\n",
        "raiz_newton_2 = newton_metodo(func_str, x0_2, tolerancia, max_iter)\n",
        "print(f\"La raíz encontrada en el intervalo [0, 1] usando Newton es: {raiz_newton_2}\")\n"
      ],
      "metadata": {
        "colab": {
          "base_uri": "https://localhost:8080/"
        },
        "id": "S5yGF9H3wd5E",
        "outputId": "394c5871-281c-44c4-97fb-abc30020e48b"
      },
      "execution_count": 34,
      "outputs": [
        {
          "output_type": "stream",
          "name": "stdout",
          "text": [
            "La raíz encontrada en el intervalo [-1, 0] usando Newton es: -0.04065928831575899\n",
            "La raíz encontrada en el intervalo [0, 1] usando Newton es: -0.040659288315758865\n"
          ]
        }
      ]
    },
    {
      "cell_type": "markdown",
      "source": [
        "13. El control de un determinado sistema eléctrico conduce a la resolución del siguiente sistema de ecuaciones no lineales:\n",
        "$$\n",
        "\\begin{aligned}\n",
        "I * \\cos (\\phi) & =2 / 3 \\\\\n",
        "\\cos (\\delta)+0.91 * I * \\sin (\\phi+\\delta) & =1.22 \\\\\n",
        "0.76 * I * \\cos (\\phi+\\delta) & =\\sin (\\delta)\n",
        "\\end{aligned}\n",
        "$$\n",
        "sabiendo que por consideraciones técnicas los ángulos $\\phi$ y $\\delta$ deben estar comprendidos entre 0 y $\\pi / 2$ y que la densidad de corriente $I$ debe ser positiva, se pide resolver mediante el método de Newton el sistema partiendo de los datos iniciales siguientes:\n",
        "*   a) $I=1, \\phi=0.1$ y $\\delta=0.1$.\n",
        "*   b) $I=\\phi=\\delta=1$.\n",
        "\n",
        "Comentar la admisibilidad de las soluciones encontradas.\n",
        "\n",
        "[Computacional]\n"
      ],
      "metadata": {
        "id": "c6uF3s561BqO"
      }
    },
    {
      "cell_type": "code",
      "source": [
        "# Para evaluar funciones y calcular derivadas se\n",
        "# usará sympy\n",
        "from sympy import symbols, cos, sin, diff, lambdify, Matrix, matrix2numpy\n",
        "from numpy import pi, matmul, array\n",
        "from numpy.linalg import inv\n",
        "\n",
        "# Se crean las variables\n",
        "I = symbols('I') # I\n",
        "p = symbols('p') # phi\n",
        "d = symbols('d') # delta\n",
        "\n",
        "# Se crean las funciones f1, f2, f3 del sistema de ecuaciones\n",
        "f1 = I*cos(p) - 2/3\n",
        "f2 = cos(d) + 0.91*I*sin(p+d) - 1.22\n",
        "f3 = 0.76*I*cos(p+d) - sin(d)\n",
        "\n",
        "# Se obtienen las derivadas de f1, f2, f3 respecto I,p,d\n",
        "dI_f1 = diff(f1,I)\n",
        "dp_f1 = diff(f1,p)\n",
        "dd_f1 = diff(f1,d)\n",
        "\n",
        "dI_f2 = diff(f2,I)\n",
        "dp_f2 = diff(f2,p)\n",
        "dd_f2 = diff(f2,d)\n",
        "\n",
        "dI_f3 = diff(f3,I)\n",
        "dp_f3 = diff(f3,p)\n",
        "dd_f3 = diff(f3,d)\n",
        "\n",
        "# Se crea la matriz jacobiana y la función vectorial F=(f1,f2,f3)\n",
        "\n",
        "jac = Matrix([[dI_f1, dp_f1, dd_f1],[dI_f2, dp_f2, dd_f2], [dI_f3, dp_f3, dd_f3]])\n",
        "F   = Matrix([[f1],[f2],[f3]])"
      ],
      "metadata": {
        "id": "6U-MUfjq15b4"
      },
      "execution_count": 45,
      "outputs": []
    },
    {
      "cell_type": "code",
      "source": [
        "jac"
      ],
      "metadata": {
        "colab": {
          "base_uri": "https://localhost:8080/",
          "height": 78
        },
        "id": "-0yHbk_c1-Pz",
        "outputId": "71d6d47d-f56e-467d-b4cc-6b2c0ff63b27"
      },
      "execution_count": 46,
      "outputs": [
        {
          "output_type": "execute_result",
          "data": {
            "text/plain": [
              "Matrix([\n",
              "[         cos(p),          -I*sin(p),                           0],\n",
              "[0.91*sin(d + p),  0.91*I*cos(d + p),  0.91*I*cos(d + p) - sin(d)],\n",
              "[0.76*cos(d + p), -0.76*I*sin(d + p), -0.76*I*sin(d + p) - cos(d)]])"
            ],
            "text/latex": "$\\displaystyle \\left[\\begin{matrix}\\cos{\\left(p \\right)} & - I \\sin{\\left(p \\right)} & 0\\\\0.91 \\sin{\\left(d + p \\right)} & 0.91 I \\cos{\\left(d + p \\right)} & 0.91 I \\cos{\\left(d + p \\right)} - \\sin{\\left(d \\right)}\\\\0.76 \\cos{\\left(d + p \\right)} & - 0.76 I \\sin{\\left(d + p \\right)} & - 0.76 I \\sin{\\left(d + p \\right)} - \\cos{\\left(d \\right)}\\end{matrix}\\right]$"
          },
          "metadata": {},
          "execution_count": 46
        }
      ]
    },
    {
      "cell_type": "code",
      "source": [
        "# La siguiente funcion itera n veces el metodo de newton\n",
        "# con la condición inicial x0 en forma de vector columna\n",
        "def newton(n,X0):\n",
        "  # Condicion inicial\n",
        "  x0 = array(X0)\n",
        "  for i in range(n):\n",
        "    # Se evalua el jacobiano en la condicion inicial dada\n",
        "    # conviertiendolo en un array 2x2 para facilitar su uso\n",
        "    J = matrix2numpy(jac.subs({I:x0[0][0],p:x0[1][0],d:x0[2][0]}), dtype=float)\n",
        "    # se crea una matrix fila con f1 y f2 evaluados en la condición inicial\n",
        "    feval = matrix2numpy(F.subs({I:x0[0][0],p:x0[1][0],d:x0[2][0]}), dtype=float)\n",
        "\n",
        "    x = x0 - matmul(inv(J),feval)\n",
        "    x0 = x\n",
        "\n",
        "    print(f'''I = {x[0][0]:.8f}, ϕ = {x[1][0]:.8f}, δ = {x[2][0]:.8f},f1 = {f1.subs({I:x[0][0],p:x[1][0],d:x[2][0]}):.8f}, f2 = {f2.subs({I:x[0][0],p:x[1][0],d:x[2][0]}):.8f},f3 = {f3.subs({I:x[0][0],p:x[1][0],d:x[2][0]}):.8f}''')"
      ],
      "metadata": {
        "id": "xdDb0Tkx2Awq"
      },
      "execution_count": 47,
      "outputs": []
    },
    {
      "cell_type": "code",
      "source": [
        "newton(10,[[1],[0.1],[0.1]])"
      ],
      "metadata": {
        "colab": {
          "base_uri": "https://localhost:8080/"
        },
        "id": "YT7FpEAa2HQ9",
        "outputId": "1ec8f2bc-e1df-4257-f2e5-425bd28057b2"
      },
      "execution_count": 48,
      "outputs": [
        {
          "output_type": "stream",
          "name": "stdout",
          "text": [
            "I = 0.64987769, ϕ = -0.10069094, δ = 0.46172165,f1 = -0.02008064, f2 = -0.11581179,f3 = 0.01657631\n",
            "I = 0.65638372, ϕ = 0.10761061, δ = 0.44756921,f1 = -0.01407976, f2 = -0.00365889,f3 = -0.00884852\n",
            "I = 0.67012169, ϕ = 0.10163513, δ = 0.44893930,f1 = -0.00000308, f2 = -0.00005317,f3 = 0.00002116\n",
            "I = 0.67013116, ϕ = 0.10172842, δ = 0.44894139,f1 = -0.00000000, f2 = -0.00000000,f3 = -0.00000000\n",
            "I = 0.67013116, ϕ = 0.10172842, δ = 0.44894139,f1 = -0.00000000, f2 = 0.00000000,f3 = 0.00000000\n",
            "I = 0.67013116, ϕ = 0.10172842, δ = 0.44894139,f1 = 0.00000000, f2 = 0.00000000,f3 = 0.00000000\n",
            "I = 0.67013116, ϕ = 0.10172842, δ = 0.44894139,f1 = 0.00000000, f2 = 0.00000000,f3 = -0.00000000\n",
            "I = 0.67013116, ϕ = 0.10172842, δ = 0.44894139,f1 = 0.00000000, f2 = 0.00000000,f3 = 0.00000000\n",
            "I = 0.67013116, ϕ = 0.10172842, δ = 0.44894139,f1 = 0.00000000, f2 = 0.00000000,f3 = 0.00000000\n",
            "I = 0.67013116, ϕ = 0.10172842, δ = 0.44894139,f1 = 0.00000000, f2 = 0.00000000,f3 = 0.00000000\n"
          ]
        }
      ]
    },
    {
      "cell_type": "code",
      "source": [
        "newton(10,[[1],[1],[1]])"
      ],
      "metadata": {
        "colab": {
          "base_uri": "https://localhost:8080/"
        },
        "id": "U00Bj-1p2Kfz",
        "outputId": "e01bd403-7a37-4779-b758-9d925aa9a5bb"
      },
      "execution_count": 49,
      "outputs": [
        {
          "output_type": "stream",
          "name": "stdout",
          "text": [
            "I = 0.06608593, ϕ = 0.25016988, δ = 0.72048173,f1 = -0.60263797, f2 = -0.41888272,f3 = -0.63138142\n",
            "I = 0.61107609, ϕ = -4.31031312, δ = 0.45761648,f1 = -0.90579876, f2 = 0.04004468,f3 = -0.79367344\n",
            "I = -0.20520182, ϕ = -5.35303078, δ = 0.45128914,f1 = -0.78931787, f2 = -0.50351041,f3 = -0.46548001\n",
            "I = 0.45152993, ϕ = -2.94116611, δ = 0.44845094,f1 = -1.10915775, f2 = -0.56717925,f3 = -0.70698942\n",
            "I = -0.66698276, ϕ = -2.79615364, δ = 0.44900681,f1 = -0.03908465, f2 = 0.11392564,f3 = -0.07889135\n",
            "I = -0.65032577, ϕ = -3.03860843, δ = 0.44894827,f1 = -0.01978645, f2 = -0.00879708,f3 = -0.01316009\n",
            "I = -0.67013062, ϕ = -3.03990268, δ = 0.44894138,f1 = 0.00000208, f2 = -0.00002024,f3 = 0.00000990\n",
            "I = -0.67013116, ϕ = -3.03986423, δ = 0.44894139,f1 = -0.00000000, f2 = -0.00000000,f3 = -0.00000000\n",
            "I = -0.67013116, ϕ = -3.03986423, δ = 0.44894139,f1 = 0.00000000, f2 = 0.00000000,f3 = 0.00000000\n",
            "I = -0.67013116, ϕ = -3.03986423, δ = 0.44894139,f1 = 0.00000000, f2 = 0.00000000,f3 = 0.00000000\n"
          ]
        }
      ]
    },
    {
      "cell_type": "markdown",
      "source": [
        "Se usan ambos valores iniciales con 10 iteraciones.\n",
        "\n",
        "La primer terna de valores iniciales da como resultado:\n",
        "\n",
        "$$I = 0.67013116, \\phi = 0.10172842, \\delta = 0.44894139$$\n",
        "\n",
        "Que es una solución valida pues $I>0$ y  $0\\leq\\phi,\\delta \\leq \\pi/2$.\n",
        "\n",
        "Por otro lado los segundos valores iniciales no son validos pues $I<0$ y $\\phi<0$. Estos valores dan la solución:\n",
        "\n",
        "$$I = -0.67013116, \\phi = -3.03986423, \\delta = 0.44894139$$"
      ],
      "metadata": {
        "id": "deb3lGzk2QpZ"
      }
    },
    {
      "cell_type": "markdown",
      "source": [
        "14. Resolver el siguiente sistema de ecuaciones no lineales por el Método de Newton:\n",
        "$$\n",
        "\\begin{aligned}\n",
        "U+\\frac{0.27}{U}-1.31 * \\cos (\\phi) & =0 \\\\\n",
        "\\frac{0.405}{U}-1.31 * \\sin (\\phi) & =0\n",
        "\\end{aligned}\n",
        "$$\n",
        "dar al menos 3 condiciones iniciales distintas y comentar los resultados.\n",
        "\n",
        "[Computacional]\n"
      ],
      "metadata": {
        "id": "AV9EJeVO2Rqe"
      }
    },
    {
      "cell_type": "code",
      "source": [
        "# Para evaluar funciones y calcular derivadas se\n",
        "# usará sympy\n",
        "from sympy import symbols, cos, sin, diff, lambdify, Matrix, matrix2numpy\n",
        "from numpy import pi, matmul, array\n",
        "from numpy.linalg import inv\n",
        "\n",
        "# Se crean las variables U y p (phi)\n",
        "U = symbols('U')\n",
        "p = symbols('p')\n",
        "\n",
        "# Se crean las funciones f1, f2 del sistema de ecuaciones\n",
        "f1 = U + 0.27/U - 1.31*cos(p)\n",
        "f2 = 0.405/U - 1.31*sin(p)\n",
        "\n",
        "# Se obtienen las derivadas de f1, f2 respecto U y p\n",
        "dU_f1 = diff(f1,U)\n",
        "dp_f1 = diff(f1,p)\n",
        "\n",
        "dU_f2 = diff(f2,U)\n",
        "dp_f2 = diff(f2,p)\n",
        "\n",
        "# Se crea la matriz jacobiana\n",
        "\n",
        "jac = Matrix([[dU_f1, dp_f1],[dU_f2, dp_f2]])\n",
        "F   = Matrix([[f1],[f2]])"
      ],
      "metadata": {
        "id": "Lr4_PliG2UjB"
      },
      "execution_count": 50,
      "outputs": []
    },
    {
      "cell_type": "code",
      "source": [
        "# La siguiente funcion itera n veces el metodo de newton\n",
        "# con la condición inicial x0 en forma de vector columna\n",
        "def newton(n,X0):\n",
        "  # Condicion inicial\n",
        "  x0 = array(X0)\n",
        "  for i in range(n):\n",
        "    # Se evalua el jacobiano en la condicion inicial dada\n",
        "    # conviertiendolo en un array 2x2 para facilitar su uso\n",
        "    J = matrix2numpy(jac.subs({U:x0[0][0],p:x0[1][0]}), dtype=float)\n",
        "    # se crea una matrix fila con f1 y f2 evaluados en la condición inicial\n",
        "    feval = matrix2numpy(F.subs({U:x0[0][0],p:x0[1][0]}), dtype=float)\n",
        "\n",
        "    x = x0 - matmul(inv(J),feval)\n",
        "    x0 = x\n",
        "\n",
        "    print(f'U = {x[0][0]:.8f}, ϕ = {x[1][0]:.8f}, f1 = {f1.subs({U:x[0][0],p:x[1][0]}):.8f}, f2 = {f2.subs({U:x[0][0],p:x[1][0]}):.8f}')"
      ],
      "metadata": {
        "id": "hjSbweW72dTT"
      },
      "execution_count": 51,
      "outputs": []
    },
    {
      "cell_type": "code",
      "source": [
        "newton(8,[[1],[pi]])"
      ],
      "metadata": {
        "colab": {
          "base_uri": "https://localhost:8080/"
        },
        "id": "FooFaq6O2ils",
        "outputId": "0573bb60-c7db-460a-9eeb-02fb7b48ee59"
      },
      "execution_count": 52,
      "outputs": [
        {
          "output_type": "stream",
          "name": "stdout",
          "text": [
            "U = -2.53424658, ϕ = 1.73978360, f1 = -2.42046590, f2 = -1.45115064\n",
            "U = -7.11779628, ϕ = 7.01439957, f1 = -8.13084634, f2 = -0.93168354\n",
            "U = 1.96237898, ϕ = 5.98450217, f1 = 0.84796757, f2 = 0.59186524\n",
            "U = 1.27053870, ϕ = 6.51535353, f1 = 0.20819455, f2 = 0.01734700\n",
            "U = 0.99605022, ϕ = 6.58297921, f1 = 0.01555033, f2 = 0.01973247\n",
            "U = 0.96006729, ϕ = 6.61048174, f1 = 0.00083899, f2 = 0.00070118\n",
            "U = 0.95813675, ϕ = 6.61173083, f1 = 0.00000211, f2 = 0.00000204\n",
            "U = 0.95813171, ϕ = 6.61173427, f1 = 0.00000000, f2 = 0.00000000\n"
          ]
        }
      ]
    },
    {
      "cell_type": "code",
      "source": [
        "newton(8,[[100],[9]])"
      ],
      "metadata": {
        "colab": {
          "base_uri": "https://localhost:8080/"
        },
        "id": "s8mZwR2y2leR",
        "outputId": "9938fe37-e822-420f-c47f-27b17c49cc3a"
      },
      "execution_count": 53,
      "outputs": [
        {
          "output_type": "stream",
          "name": "stdout",
          "text": [
            "U = -1.43952340, ϕ = 9.44548051, f1 = -0.31736620, f2 = -0.25422471\n",
            "U = -1.06682450, ϕ = 9.69520248, f1 = -0.05752062, f2 = -0.02967720\n",
            "U = -0.96782463, ϕ = 9.74661797, f1 = -0.00406273, f2 = -0.00409469\n",
            "U = -0.95826117, ϕ = 9.75324021, f1 = -0.00005474, f2 = -0.00005041\n",
            "U = -0.95813173, ϕ = 9.75332691, f1 = -0.00000001, f2 = -0.00000001\n",
            "U = -0.95813171, ϕ = 9.75332692, f1 = -0.00000000, f2 = 0.00000000\n",
            "U = -0.95813171, ϕ = 9.75332692, f1 = 0.00000000, f2 = 0.00000000\n",
            "U = -0.95813171, ϕ = 9.75332692, f1 = 0.00000000, f2 = 0.00000000\n"
          ]
        }
      ]
    },
    {
      "cell_type": "code",
      "source": [
        "newton(8,[[0.7],[6]])"
      ],
      "metadata": {
        "colab": {
          "base_uri": "https://localhost:8080/"
        },
        "id": "fnScJ_i72oxn",
        "outputId": "a437b6d0-3488-4bbd-dc81-f7408228e288"
      },
      "execution_count": 54,
      "outputs": [
        {
          "output_type": "stream",
          "name": "stdout",
          "text": [
            "U = 1.34828367, ϕ = 6.32498961, f1 = 0.23968277, f2 = 0.24563420\n",
            "U = 1.05147704, ϕ = 6.56318188, f1 = 0.04927482, f2 = 0.02315087\n",
            "U = 0.96548825, ϕ = 6.60658983, f1 = 0.00305125, f2 = 0.00316356\n",
            "U = 0.95820761, ϕ = 6.61168350, f1 = 0.00003213, f2 = 0.00002946\n",
            "U = 0.95813171, ϕ = 6.61173427, f1 = 0.00000000, f2 = 0.00000000\n",
            "U = 0.95813171, ϕ = 6.61173427, f1 = 0.00000000, f2 = -0.00000000\n",
            "U = 0.95813171, ϕ = 6.61173427, f1 = 0.00000000, f2 = 0.00000000\n",
            "U = 0.95813171, ϕ = 6.61173427, f1 = 0.00000000, f2 = 0.00000000\n"
          ]
        }
      ]
    },
    {
      "cell_type": "code",
      "source": [
        "newton(8,[[0.7],[12]])"
      ],
      "metadata": {
        "colab": {
          "base_uri": "https://localhost:8080/"
        },
        "id": "JQSsS1L72rsO",
        "outputId": "1733384e-a69a-4d5c-f01a-d6f2597ea2ae"
      },
      "execution_count": 55,
      "outputs": [
        {
          "output_type": "stream",
          "name": "stdout",
          "text": [
            "U = 1.55638326, ϕ = 12.51893405, f1 = 0.42133601, f2 = 0.32233727\n",
            "U = 1.10346002, ϕ = 12.82314155, f1 = 0.08109318, f2 = 0.03434147\n",
            "U = 0.97304011, ϕ = 12.88448165, f1 = 0.00624638, f2 = 0.00648874\n",
            "U = 0.95843478, ϕ = 12.89471751, f1 = 0.00012858, f2 = 0.00011689\n",
            "U = 0.95813183, ϕ = 12.89491949, f1 = 0.00000005, f2 = 0.00000005\n",
            "U = 0.95813171, ϕ = 12.89491958, f1 = 0.00000000, f2 = 0.00000000\n",
            "U = 0.95813171, ϕ = 12.89491958, f1 = -0.00000000, f2 = 0.00000000\n",
            "U = 0.95813171, ϕ = 12.89491958, f1 = 0.00000000, f2 = 0.00000000\n"
          ]
        }
      ]
    },
    {
      "cell_type": "markdown",
      "source": [
        "Se puede apreciar que para la primer condición incial toma 7 iteraciones en llegar a ceros en la primer y segunda ecuación.\n",
        "\n",
        "En la segunda condición toma igualmente 7 iteraciones aunque son valores iniciales muy lejanos a las raíces.\n",
        "\n",
        "Si se usa como condición inicial raíces cercanas a las mejores aproximaciones toma 5 iteraciones en llegar a los ceros.\n",
        "\n",
        "A 8 decimales las mejores raíces son $U = 0.95813171$ y $\\phi= 6.61173427$.\n",
        "\n",
        "Sin embargo en una cuarta condición inicial con un valor diferente de $\\phi$ se observa que hay otra posible raíz, esto también se observa en la segunda condición inicial, esto es de esperar ya que el seno y coseno son $2\\pi$ periodicos.\n",
        "\n",
        "La separación entre las raíces $\\phi=6.61173427\\dots, 9.75332692\\dots,12.89491958\\dots$ es $\\pi$."
      ],
      "metadata": {
        "id": "5820ux-_2xbI"
      }
    },
    {
      "cell_type": "markdown",
      "source": [
        "15. Resolver los siguientes sistemas programando el Método de Newton para varias variables.\n",
        "a) Puntos iniciales $x_1=15$ y $x_2=-2$\n",
        "$$\n",
        "\\begin{aligned}\n",
        "x_1+x_2\\left(x_2\\left(5-x_2\\right)-2\\right) & =13 \\\\\n",
        "x_1+x_2\\left(x_2\\left(1+x_2\\right)+14\\right) & =29\n",
        "\\end{aligned}\n",
        "$$\n",
        "b) Puntos iniciales $x_1=(1+\\sqrt{3}) / 2, x_2=(1-\\sqrt{3}) / 2$ y $x_3=\\sqrt{3}$\n",
        "$$\n",
        "\\begin{array}{r}\n",
        "x_1^2+x_2^2+x_3^2=5 \\\\\n",
        "x_1+x_2=1 \\\\\n",
        "x_1+x_3=3\n",
        "\\end{array}\n",
        "$$\n",
        "[Computacional]\n"
      ],
      "metadata": {
        "id": "TOYtMQ992yPW"
      }
    },
    {
      "cell_type": "code",
      "source": [
        "# Para evaluar funciones y calcular derivadas se\n",
        "# usará sympy\n",
        "from sympy import symbols, cos, sin, diff, lambdify, Matrix, matrix2numpy\n",
        "from numpy import pi, matmul, array, sqrt\n",
        "from numpy.linalg import inv\n",
        "\n",
        "# Se crean las variables x1,x2,x3\n",
        "x1 = symbols('x1')\n",
        "x2 = symbols('x2')\n",
        "x3 = symbols('x3')\n",
        "\n",
        "# Se crean las funciones f1, f2 del sistema de ecuaciones\n",
        "f1 = x1 + x2*(x2*(5 - x2) - 2) - 13\n",
        "f2 = x1 + x2*(x2*(1 + x2) + 14) - 29\n",
        "\n",
        "# Se obtienen las derivadas de f1, f2 respecto x1, x2\n",
        "d1_f1 = diff(f1,x1)\n",
        "d2_f1 = diff(f1,x2)\n",
        "\n",
        "d1_f2 = diff(f2,x1)\n",
        "d2_f2 = diff(f2,x2)\n",
        "\n",
        "# Se crea la matriz jacobiana\n",
        "\n",
        "jac = Matrix([[d1_f1, d2_f1],[d1_f2, d2_f2]])\n",
        "F   = Matrix([[f1],[f2]])"
      ],
      "metadata": {
        "id": "d0R5s_XG3DJB"
      },
      "execution_count": 56,
      "outputs": []
    },
    {
      "cell_type": "code",
      "source": [
        "# La siguiente funcion itera n veces el metodo de newton\n",
        "# con la condición inicial x0 en forma de vector columna\n",
        "def newton(n,X0):\n",
        "  # Condicion inicial\n",
        "  x0 = array(X0)\n",
        "  for i in range(n):\n",
        "    # Se evalua el jacobiano en la condicion inicial dada\n",
        "    # conviertiendolo en un array 2x2 para facilitar su uso\n",
        "    J = matrix2numpy(jac.subs({x1:x0[0][0],x2:x0[1][0]}), dtype=float)\n",
        "    # se crea una matrix fila con f1 y f2 evaluados en la condición inicial\n",
        "    feval = matrix2numpy(F.subs({x1:x0[0][0],x2:x0[1][0]}), dtype=float)\n",
        "\n",
        "    x = x0 - matmul(inv(J),feval)\n",
        "    x0 = x\n",
        "\n",
        "    print(f'x1 = {x[0][0]:.8f}, x2 = {x[1][0]:.8f}, f1 = {f1.subs({x1:x[0][0],x2:x[1][0]}):.8f}, f2 = {f2.subs({x1:x[0][0],x2:x[1][0]}):.8f}')"
      ],
      "metadata": {
        "id": "BhodbHHU3EX3"
      },
      "execution_count": 57,
      "outputs": []
    },
    {
      "cell_type": "code",
      "source": [
        "newton(10,[[15],[-2]])"
      ],
      "metadata": {
        "colab": {
          "base_uri": "https://localhost:8080/"
        },
        "id": "KHNq-N5I3JvZ",
        "outputId": "9f69bc69-76c2-4fa0-cd4d-3e9154ab1f9e"
      },
      "execution_count": 58,
      "outputs": [
        {
          "output_type": "stream",
          "name": "stdout",
          "text": [
            "x1 = 29.57142857, x2 = -0.57142857, f1 = 19.53352770, f2 = -7.28862974\n",
            "x1 = 20.38775510, x2 = 0.61904762, f1 = 7.82852824, f2 = 0.67487312\n",
            "x1 = 10.92941859, x2 = 1.15502484, f1 = 0.74888251, f2 = 0.97474696\n",
            "x1 = 10.26540950, x2 = 1.13972682, f1 = 0.00036280, f2 = 0.00104138\n",
            "x1 = 10.26530102, x2 = 1.13968058, f1 = 0.00000000, f2 = 0.00000001\n",
            "x1 = 10.26530102, x2 = 1.13968058, f1 = 0.00000000, f2 = 0.00000000\n",
            "x1 = 10.26530102, x2 = 1.13968058, f1 = -0.00000000, f2 = 0.00000000\n",
            "x1 = 10.26530102, x2 = 1.13968058, f1 = 0.00000000, f2 = 0.00000000\n",
            "x1 = 10.26530102, x2 = 1.13968058, f1 = -0.00000000, f2 = 0.00000000\n",
            "x1 = 10.26530102, x2 = 1.13968058, f1 = 0.00000000, f2 = 0.00000000\n"
          ]
        }
      ]
    },
    {
      "cell_type": "code",
      "source": [
        "# Se crean las funciones f1, f2, f3 del sistema de ecuaciones\n",
        "g1 = x1**2 + x2**2 + x3**2 - 5\n",
        "g2 = x1 + x2 - 1\n",
        "g3 = x1 + x3 -3\n",
        "\n",
        "# Se obtienen las derivadas de f1, f2, f3 respecto I,p,d\n",
        "d1_g1 = diff(g1,x1)\n",
        "d2_g1 = diff(g1,x2)\n",
        "d3_g1 = diff(g1,x3)\n",
        "\n",
        "d1_g2 = diff(g2,x1)\n",
        "d2_g2 = diff(g2,x2)\n",
        "d3_g2 = diff(g2,x3)\n",
        "\n",
        "d1_g3 = diff(g3,x1)\n",
        "d2_g3 = diff(g3,x2)\n",
        "d3_g3 = diff(g3,x3)\n",
        "\n",
        "# Se crea la matriz jacobiana y la función vectorial F=(f1,f2,f3)\n",
        "\n",
        "jac1 = Matrix([[d1_g1, d2_g1, d3_g1],[d1_g2, d2_g2, d3_g2], [d1_g3, d2_g3, d3_g3]])\n",
        "G   = Matrix([[g1],[g2],[g3]])"
      ],
      "metadata": {
        "id": "WGmRiR1j3K5g"
      },
      "execution_count": 59,
      "outputs": []
    },
    {
      "cell_type": "code",
      "source": [
        "# La siguiente funcion itera n veces el metodo de newton\n",
        "# con la condición inicial x0 en forma de vector columna\n",
        "def newton(n,X0):\n",
        "  # Condicion inicial\n",
        "  x0 = array(X0)\n",
        "  for i in range(n):\n",
        "    # Se evalua el jacobiano en la condicion inicial dada\n",
        "    # conviertiendolo en un array 2x2 para facilitar su uso\n",
        "    J = matrix2numpy(jac1.subs({x1:x0[0][0],x2:x0[1][0],x3:x0[2][0]}), dtype=float)\n",
        "    # se crea una matrix fila con f1 y f2 evaluados en la condición inicial\n",
        "    feval = matrix2numpy(G.subs({x1:x0[0][0],x2:x0[1][0],x3:x0[2][0]}), dtype=float)\n",
        "\n",
        "    x = x0 - matmul(inv(J),feval)\n",
        "    x0 = x\n",
        "\n",
        "    print(f'''x1 = {x[0][0]:.8f}, x2 = {x[1][0]:.8f}, x3 = {x[2][0]:.8f},f1 = {g1.subs({x1:x[0][0],x2:x[1][0],x3:x[2][0]}):.8f}, f2 = {g2.subs({x1:x[0][0],x2:x[1][0],x3:x[2][0]}):.8f},f3 = {g3.subs({x1:x[0][0],x2:x[1][0],x3:x[2][0]}):.8f}''')"
      ],
      "metadata": {
        "id": "GY49Duqr3R0T"
      },
      "execution_count": 60,
      "outputs": []
    },
    {
      "cell_type": "code",
      "source": [
        "newton(10,[[5],[5],[5]])"
      ],
      "metadata": {
        "colab": {
          "base_uri": "https://localhost:8080/"
        },
        "id": "3VELkUqu3YhL",
        "outputId": "57b3c5d4-22c1-43a9-9e13-e44c4d130e81"
      },
      "execution_count": 62,
      "outputs": [
        {
          "output_type": "stream",
          "name": "stdout",
          "text": [
            "x1 = -4.00000000, x2 = 5.00000000, x3 = 7.00000000,f1 = 85.00000000, f2 = 0.00000000,f3 = 0.00000000\n",
            "x1 = -1.34375000, x2 = 2.34375000, x3 = 4.34375000,f1 = 21.16699219, f2 = 0.00000000,f3 = 0.00000000\n",
            "x1 = -0.02596060, x2 = 1.02596060, x3 = 3.02596060,f1 = 5.20970668, f2 = 0.00000000,f3 = 0.00000000\n",
            "x1 = 0.61281547, x2 = 0.38718453, x3 = 2.38718453,f1 = 1.22410463, f2 = 0.00000000,f3 = -0.00000000\n",
            "x1 = 0.89596937, x2 = 0.10403063, x3 = 2.10403063,f1 = 0.24052838, f2 = -0.00000000,f3 = 0.00000000\n",
            "x1 = 0.98762773, x2 = 0.01237227, x3 = 2.01237227,f1 = 0.02520376, f2 = -0.00000000,f3 = 0.00000000\n",
            "x1 = 0.99977861, x2 = 0.00022139, x3 = 2.00022139,f1 = 0.00044293, f2 = 0.00000000,f3 = 0.00000000\n",
            "x1 = 0.99999993, x2 = 0.00000007, x3 = 2.00000007,f1 = 0.00000015, f2 = -0.00000000,f3 = 0.00000000\n",
            "x1 = 1.00000000, x2 = 0.00000000, x3 = 2.00000000,f1 = 0.00000000, f2 = -0.00000000,f3 = 0.00000000\n",
            "x1 = 1.00000000, x2 = 0.00000000, x3 = 2.00000000,f1 = 0.00000000, f2 = 0.00000000,f3 = 0.00000000\n"
          ]
        }
      ]
    },
    {
      "cell_type": "markdown",
      "source": [
        "Para el primer sistema con las condiciones iniciales dadas se obtiene la solución:\n",
        "\n",
        "$$x_1 = 10.26530102, x_2 = 1.13968058$$\n",
        "\n",
        "Pero en el segundo sistema la condición inicial dada lleva a un jacobiano con determinante 0 por lo que no tiene inversa y no se puede calcular una iteración. Probando con la condición inicial $(5,5,5)$ se obtiene como solución a $(1,0,2)$.\n"
      ],
      "metadata": {
        "id": "zRNQTRse5ItY"
      }
    },
    {
      "cell_type": "markdown",
      "source": [
        "16. Para la función del ejercicio $15 b$ resolverlo por la iteración de punto fijo.\n",
        "\n",
        "[Computacional]\n"
      ],
      "metadata": {
        "id": "69QW9Tb55K_N"
      }
    },
    {
      "cell_type": "code",
      "source": [
        "'''\n",
        "Primero se escribe x1 como función de x2, x3. y x2, x3 como funciones de x1\n",
        "haciendo un despeje simple de las ecuaciones dadas.\n",
        "quedando x1 = sqrt(5-x2^2-x3^2), x2=1-x1, x3=3-x1\n",
        "'''\n",
        "from math import sqrt\n",
        "def x1(x2,x3):\n",
        "  return sqrt(5 - x2**2 - x3**2)\n",
        "\n",
        "def x2(x1):\n",
        "  return 1 - x1\n",
        "\n",
        "def x3(x1):\n",
        "  return 3 - x1"
      ],
      "metadata": {
        "id": "tNdN4y525VmW"
      },
      "execution_count": 64,
      "outputs": []
    },
    {
      "cell_type": "code",
      "source": [
        "def puntoFijo(n,vInicial):\n",
        "  for i in range(n):\n",
        "    # Primero se evalua x1 en x2 y x3 dados inicialmente\n",
        "    xn1 = x1(vInicial[1],vInicial[2])\n",
        "    # Como xn1 cambio, se cambia también en el vector de cond inicial\n",
        "    vInicial[0] = xn1\n",
        "    # Ahora se evalua x2 en el nuevo valor x1 y se actualiza x2\n",
        "    xn2 = x2(vInicial[0])\n",
        "    vInicial[1] = xn2\n",
        "    # Se repite para x3\n",
        "    xn3 = x3(vInicial[0])\n",
        "    vInicial[2] = xn3\n",
        "    # Se muestran los nuevos valores de x1, x2 y x3\n",
        "    print(f'x1={vInicial[0]}, x2={vInicial[1]}, x3={vInicial[2]}')"
      ],
      "metadata": {
        "id": "5cwfw52V6cZD"
      },
      "execution_count": 65,
      "outputs": []
    },
    {
      "cell_type": "code",
      "source": [
        "puntoFijo(10,[0.1,-0.1,-0.3])"
      ],
      "metadata": {
        "colab": {
          "base_uri": "https://localhost:8080/"
        },
        "id": "GCi5mbMe6f8u",
        "outputId": "22f3f68c-345b-4524-8bd0-c3564d6b4972"
      },
      "execution_count": 66,
      "outputs": [
        {
          "output_type": "stream",
          "name": "stdout",
          "text": [
            "x1=2.2135943621178655, x2=-1.2135943621178655, x3=0.7864056378821345\n",
            "x1=1.7055072257082127, x2=-0.7055072257082127, x3=1.2944927742917873\n",
            "x1=1.6812340740598417, x2=-0.6812340740598417, x3=1.3187659259401583\n",
            "x1=1.6723565914358776, x2=-0.6723565914358776, x3=1.3276434085641224\n",
            "x1=1.6689216858945082, x2=-0.6689216858945082, x3=1.3310783141054918\n",
            "x1=1.667565380984545, x2=-0.667565380984545, x3=1.332434619015455\n",
            "x1=1.667025629125149, x2=-0.6670256291251491, x3=1.332974370874851\n",
            "x1=1.6668101681598282, x2=-0.6668101681598282, x3=1.3331898318401718\n",
            "x1=1.6667240539203352, x2=-0.6667240539203352, x3=1.3332759460796648\n",
            "x1=1.666689619434107, x2=-0.666689619434107, x3=1.333310380565893\n"
          ]
        }
      ]
    },
    {
      "cell_type": "markdown",
      "source": [
        "Con la condición inicial $x_1=0.1,x_2=-0.1,x_3=0.3$ se observa una convergencia hacia $x_1=1.66\\dots, x_2=-0.66\\dots,x_3=1.33\\dots$, es decir una posible solución es $x_1=5/3,x_2=-2/3,x_3=4/3$."
      ],
      "metadata": {
        "id": "joUhYHI-6jo7"
      }
    }
  ]
}